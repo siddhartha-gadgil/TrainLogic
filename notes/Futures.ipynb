{
 "cells": [
  {
   "cell_type": "markdown",
   "metadata": {},
   "source": [
    "# Experiments with concurrency. \n",
    "Result values, both anonymous and named, are _updated when complete_. Even works with `flatMap`. Amazing!"
   ]
  },
  {
   "cell_type": "code",
   "execution_count": 1,
   "metadata": {},
   "outputs": [
    {
     "data": {
      "text/plain": [
       "\u001b[32mimport \u001b[39m\u001b[36mscala.concurrent._\u001b[39m"
      ]
     },
     "execution_count": 1,
     "metadata": {},
     "output_type": "execute_result"
    }
   ],
   "source": [
    "import scala.concurrent._"
   ]
  },
  {
   "cell_type": "code",
   "execution_count": 2,
   "metadata": {},
   "outputs": [
    {
     "data": {
      "text/plain": [
       "\u001b[36mec\u001b[39m: \u001b[32mExecutionContextExecutor\u001b[39m = scala.concurrent.impl.ExecutionContextImpl@7e6e7b14"
      ]
     },
     "execution_count": 2,
     "metadata": {},
     "output_type": "execute_result"
    }
   ],
   "source": [
    "implicit val ec = ExecutionContext.global\n"
   ]
  },
  {
   "cell_type": "code",
   "execution_count": 3,
   "metadata": {},
   "outputs": [
    {
     "name": "stdout",
     "output_type": "stream",
     "text": [
      "Hello\n"
     ]
    },
    {
     "data": {
      "text/plain": [
       "\u001b[36mres2_0\u001b[39m: \u001b[32mFuture\u001b[39m[\u001b[32mUnit\u001b[39m] = \u001b[32m\u001b[33mSuccess\u001b[39m(())\u001b[39m\n",
       "\u001b[36mres2_1\u001b[39m: \u001b[32mFuture\u001b[39m[\u001b[32mInt\u001b[39m] = \u001b[32m\u001b[33mSuccess\u001b[39m(\u001b[32m3\u001b[39m)\u001b[39m"
      ]
     },
     "metadata": {},
     "output_type": "display_data"
    }
   ],
   "source": [
    "Future(println(\"Hello\"))\n",
    "Future(3)"
   ]
  },
  {
   "cell_type": "code",
   "execution_count": 4,
   "metadata": {},
   "outputs": [],
   "source": [
    "Thread.sleep(1000)"
   ]
  },
  {
   "cell_type": "code",
   "execution_count": 5,
   "metadata": {},
   "outputs": [
    {
     "data": {
      "text/plain": [
       "\u001b[36mres4\u001b[39m: \u001b[32mFuture\u001b[39m[\u001b[32mInt\u001b[39m] = \u001b[32m\u001b[33mSuccess\u001b[39m(\u001b[32m3\u001b[39m)\u001b[39m"
      ]
     },
     "metadata": {},
     "output_type": "display_data"
    }
   ],
   "source": [
    "Future{Thread.sleep(3000); 3}"
   ]
  },
  {
   "cell_type": "code",
   "execution_count": 6,
   "metadata": {},
   "outputs": [
    {
     "data": {
      "text/plain": [
       "\u001b[36mres5\u001b[39m: \u001b[32mFuture\u001b[39m[\u001b[32mInt\u001b[39m] = \u001b[32m\u001b[33mSuccess\u001b[39m(\u001b[32m30\u001b[39m)\u001b[39m"
      ]
     },
     "metadata": {},
     "output_type": "display_data"
    }
   ],
   "source": [
    "Future{Thread.sleep(10000); 30}"
   ]
  },
  {
   "cell_type": "code",
   "execution_count": 7,
   "metadata": {},
   "outputs": [
    {
     "data": {
      "text/plain": [
       "\u001b[36mres6\u001b[39m: \u001b[32mFuture\u001b[39m[\u001b[32mUnit\u001b[39m] = \u001b[32m\u001b[33mSuccess\u001b[39m(())\u001b[39m"
      ]
     },
     "metadata": {},
     "output_type": "display_data"
    }
   ],
   "source": [
    "Future{Thread.sleep(3000); 3 ; println(\"completed\")}"
   ]
  },
  {
   "cell_type": "code",
   "execution_count": 8,
   "metadata": {},
   "outputs": [
    {
     "data": {
      "text/plain": [
       "\u001b[36mn\u001b[39m: \u001b[32mInt\u001b[39m = \u001b[32m3\u001b[39m\n",
       "\u001b[36mfut\u001b[39m: \u001b[32mFuture\u001b[39m[\u001b[32mInt\u001b[39m] = \u001b[32m\u001b[33mSuccess\u001b[39m(\u001b[32m3\u001b[39m)\u001b[39m"
      ]
     },
     "metadata": {},
     "output_type": "display_data"
    }
   ],
   "source": [
    "val n = 3\n",
    "val fut = Future{Thread.sleep(3000); n}"
   ]
  },
  {
   "cell_type": "code",
   "execution_count": 9,
   "metadata": {},
   "outputs": [
    {
     "data": {
      "text/plain": [
       "\u001b[36mfut\u001b[39m: \u001b[32mFuture\u001b[39m[\u001b[32mInt\u001b[39m] = \u001b[32m\u001b[33mSuccess\u001b[39m(\u001b[32m3\u001b[39m)\u001b[39m\n",
       "\u001b[36mfut1\u001b[39m: \u001b[32mFuture\u001b[39m[\u001b[32mInt\u001b[39m] = \u001b[32m\u001b[33mSuccess\u001b[39m(\u001b[32m9\u001b[39m)\u001b[39m"
      ]
     },
     "metadata": {},
     "output_type": "display_data"
    }
   ],
   "source": [
    "val fut = Future{Thread.sleep(3000); 3}\n",
    "val fut1 = fut.flatMap{k => Future{Thread.sleep(5000); k * k}}"
   ]
  },
  {
   "cell_type": "code",
   "execution_count": 10,
   "metadata": {},
   "outputs": [
    {
     "data": {
      "text/plain": [
       "\u001b[36mfutVec\u001b[39m: \u001b[32mVector\u001b[39m[\u001b[32mFuture\u001b[39m[\u001b[32mInt\u001b[39m]] = \u001b[33mVector\u001b[39m(\n",
       "  \u001b[32m\u001b[33mSuccess\u001b[39m(\u001b[32m1\u001b[39m)\u001b[39m,\n",
       "  \u001b[32m\u001b[33mSuccess\u001b[39m(\u001b[32m2\u001b[39m)\u001b[39m,\n",
       "  \u001b[32m\u001b[33mSuccess\u001b[39m(\u001b[32m3\u001b[39m)\u001b[39m,\n",
       "  \u001b[32m\u001b[33mSuccess\u001b[39m(\u001b[32m4\u001b[39m)\u001b[39m,\n",
       "  \u001b[32m\u001b[33mSuccess\u001b[39m(\u001b[32m5\u001b[39m)\u001b[39m,\n",
       "  \u001b[32m\u001b[33mSuccess\u001b[39m(\u001b[32m6\u001b[39m)\u001b[39m,\n",
       "  \u001b[32m\u001b[33mSuccess\u001b[39m(\u001b[32m7\u001b[39m)\u001b[39m,\n",
       "  \u001b[32m\u001b[33mSuccess\u001b[39m(\u001b[32m8\u001b[39m)\u001b[39m,\n",
       "  \u001b[32m\u001b[33mSuccess\u001b[39m(\u001b[32m9\u001b[39m)\u001b[39m,\n",
       "  \u001b[32m\u001b[33mSuccess\u001b[39m(\u001b[32m10\u001b[39m)\u001b[39m\n",
       ")\n",
       "\u001b[36mallDone\u001b[39m: \u001b[32mFuture\u001b[39m[\u001b[32mVector\u001b[39m[\u001b[32mInt\u001b[39m]] = \u001b[32m\u001b[33mSuccess\u001b[39m(\u001b[33mVector\u001b[39m(\u001b[32m1\u001b[39m, \u001b[32m2\u001b[39m, \u001b[32m3\u001b[39m, \u001b[32m4\u001b[39m, \u001b[32m5\u001b[39m, \u001b[32m6\u001b[39m, \u001b[32m7\u001b[39m, \u001b[32m8\u001b[39m, \u001b[32m9\u001b[39m, \u001b[32m10\u001b[39m))\u001b[39m"
      ]
     },
     "metadata": {},
     "output_type": "display_data"
    }
   ],
   "source": [
    "val futVec = (1 to 10).toVector.map(n => Future{Thread.sleep(1000 * n); n})\n",
    "val allDone = Future.sequence(futVec)"
   ]
  },
  {
   "cell_type": "code",
   "execution_count": 11,
   "metadata": {},
   "outputs": [
    {
     "name": "stdout",
     "output_type": "stream",
     "text": [
      "commit ff10a1206767c297d8491bf206533031c6a1f1ed\n",
      "Author: Siddhartha Gadgil <siddhartha.gadgil@gmail.com>\n",
      "Date:   Thu Sep 12 21:14:21 2019 +0530\n",
      "\n",
      "    adding git log to experiments\n",
      "\n"
     ]
    },
    {
     "data": {
      "text/plain": [
       "\u001b[32mimport \u001b[39m\u001b[36msys.process._\n",
       "\u001b[39m"
      ]
     },
     "execution_count": 11,
     "metadata": {},
     "output_type": "execute_result"
    }
   ],
   "source": [
    "import sys.process._\n",
    "println(\"git log -1\".!!)"
   ]
  },
  {
   "cell_type": "code",
   "execution_count": null,
   "metadata": {},
   "outputs": [],
   "source": []
  },
  {
   "cell_type": "code",
   "execution_count": null,
   "metadata": {},
   "outputs": [],
   "source": []
  },
  {
   "cell_type": "code",
   "execution_count": null,
   "metadata": {},
   "outputs": [],
   "source": []
  }
 ],
 "metadata": {
  "kernelspec": {
   "display_name": "Scala",
   "language": "scala",
   "name": "scala"
  },
  "language_info": {
   "codemirror_mode": "text/x-scala",
   "file_extension": ".scala",
   "mimetype": "text/x-scala",
   "name": "scala",
   "nbconvert_exporter": "script",
   "version": "2.12.8"
  }
 },
 "nbformat": 4,
 "nbformat_minor": 2
}
