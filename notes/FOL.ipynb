{
 "cells": [
  {
   "cell_type": "code",
   "execution_count": 1,
   "metadata": {},
   "outputs": [
    {
     "data": {
      "text/plain": [
       "\u001b[32mimport \u001b[39m\u001b[36m$cp.$              \u001b[39m"
      ]
     },
     "execution_count": 1,
     "metadata": {},
     "output_type": "execute_result"
    }
   ],
   "source": [
    "import $cp.bin.`logic.jar`"
   ]
  },
  {
   "cell_type": "code",
   "execution_count": 2,
   "metadata": {},
   "outputs": [
    {
     "data": {
      "text/plain": [
       "\u001b[32mimport \u001b[39m\u001b[36mlogic._\u001b[39m"
      ]
     },
     "execution_count": 2,
     "metadata": {},
     "output_type": "execute_result"
    }
   ],
   "source": [
    "import logic._"
   ]
  },
  {
   "cell_type": "code",
   "execution_count": 3,
   "metadata": {},
   "outputs": [
    {
     "data": {
      "text/plain": [
       "\u001b[36mzero\u001b[39m: \u001b[32mTerm\u001b[39m.\u001b[32mConst\u001b[39m = \u001b[33mConst\u001b[39m(\u001b[32m\"0\"\u001b[39m)"
      ]
     },
     "execution_count": 3,
     "metadata": {},
     "output_type": "execute_result"
    }
   ],
   "source": [
    "val zero = Term.Const(\"0\")"
   ]
  },
  {
   "cell_type": "code",
   "execution_count": 4,
   "metadata": {},
   "outputs": [
    {
     "data": {
      "text/plain": [
       "\u001b[36msucc\u001b[39m: \u001b[32mFunction\u001b[39m = \u001b[33mFunction\u001b[39m(\u001b[32m\"succ\"\u001b[39m, \u001b[32m1\u001b[39m)"
      ]
     },
     "execution_count": 4,
     "metadata": {},
     "output_type": "execute_result"
    }
   ],
   "source": [
    "val succ = Function(\"succ\", 1)"
   ]
  },
  {
   "cell_type": "code",
   "execution_count": 5,
   "metadata": {},
   "outputs": [
    {
     "data": {
      "text/plain": [
       "\u001b[36mone\u001b[39m: \u001b[32mTerm\u001b[39m.\u001b[32mRecursive\u001b[39m = \u001b[33mRecursive\u001b[39m(\u001b[33mFunction\u001b[39m(\u001b[32m\"succ\"\u001b[39m, \u001b[32m1\u001b[39m), \u001b[33mVector\u001b[39m(\u001b[33mConst\u001b[39m(\u001b[32m\"0\"\u001b[39m)))"
      ]
     },
     "execution_count": 5,
     "metadata": {},
     "output_type": "execute_result"
    }
   ],
   "source": [
    "val one = succ(zero)"
   ]
  },
  {
   "cell_type": "code",
   "execution_count": 6,
   "metadata": {},
   "outputs": [
    {
     "data": {
      "text/plain": [
       "\u001b[36mf\u001b[39m: \u001b[32mFormula\u001b[39m.\u001b[32mEquality\u001b[39m = \u001b[33mEquality\u001b[39m(\n",
       "  \u001b[33mConst\u001b[39m(\u001b[32m\"0\"\u001b[39m),\n",
       "  \u001b[33mRecursive\u001b[39m(\u001b[33mFunction\u001b[39m(\u001b[32m\"succ\"\u001b[39m, \u001b[32m1\u001b[39m), \u001b[33mVector\u001b[39m(\u001b[33mConst\u001b[39m(\u001b[32m\"0\"\u001b[39m)))\n",
       ")"
      ]
     },
     "execution_count": 6,
     "metadata": {},
     "output_type": "execute_result"
    }
   ],
   "source": [
    "val f = zero =:= one"
   ]
  },
  {
   "cell_type": "code",
   "execution_count": null,
   "metadata": {},
   "outputs": [],
   "source": []
  }
 ],
 "metadata": {
  "kernelspec": {
   "display_name": "Scala",
   "language": "scala",
   "name": "scala"
  },
  "language_info": {
   "codemirror_mode": "text/x-scala",
   "file_extension": ".scala",
   "mimetype": "text/x-scala",
   "name": "scala",
   "nbconvert_exporter": "script",
   "version": "2.12.8"
  }
 },
 "nbformat": 4,
 "nbformat_minor": 2
}
