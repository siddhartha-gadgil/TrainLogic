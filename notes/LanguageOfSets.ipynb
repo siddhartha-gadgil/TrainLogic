{
 "cells": [
  {
   "cell_type": "markdown",
   "metadata": {},
   "source": [
    "# First-order languages and Set Theory\n",
    "\n",
    "## First-Order languages\n",
    "\n",
    "A first-order language is determined by a vocabulary consisting of _variables_, _constants_, _functions_ and _relations_. First, we encode functions and relations."
   ]
  },
  {
   "cell_type": "code",
   "execution_count": 1,
   "metadata": {},
   "outputs": [
    {
     "data": {
      "text/plain": [
       "defined \u001b[32mclass\u001b[39m \u001b[36mFunction\u001b[39m\n",
       "defined \u001b[32mclass\u001b[39m \u001b[36mRelation\u001b[39m"
      ]
     },
     "execution_count": 1,
     "metadata": {},
     "output_type": "execute_result"
    }
   ],
   "source": [
    "case class Function(name: String, degree: Int)\n",
    "\n",
    "case class Relation(name: String, degree: Int)"
   ]
  },
  {
   "cell_type": "markdown",
   "metadata": {},
   "source": [
    "We form two kinds of _expressions_, _terms_ and _formulas_ using these. Both of these are defined recursively."
   ]
  },
  {
   "cell_type": "code",
   "execution_count": 2,
   "metadata": {},
   "outputs": [
    {
     "data": {
      "text/plain": [
       "defined \u001b[32mtrait\u001b[39m \u001b[36mExpression\u001b[39m\n",
       "defined \u001b[32mtrait\u001b[39m \u001b[36mTerm\u001b[39m\n",
       "defined \u001b[32mtrait\u001b[39m \u001b[36mFormula\u001b[39m\n",
       "defined \u001b[32mobject\u001b[39m \u001b[36mTerm\u001b[39m\n",
       "defined \u001b[32mobject\u001b[39m \u001b[36mFormula\u001b[39m"
      ]
     },
     "execution_count": 2,
     "metadata": {},
     "output_type": "execute_result"
    }
   ],
   "source": [
    "sealed trait Expression\n",
    "\n",
    "sealed trait Term extends Expression\n",
    "\n",
    "sealed trait Formula extends Expression\n",
    "\n",
    "object Term{\n",
    "    case class Var(name: String) extends Term\n",
    "    \n",
    "    case class Const(name: String) extends Term \n",
    "\n",
    "    case class Recursive(function: Function, arguments: Vector[Term]) extends Term{\n",
    "        require(function.degree == arguments.length)\n",
    "    }\n",
    "}\n",
    "\n",
    "object Formula{\n",
    "    case class Equality(lhs: Term, rhs: Term) extends Formula\n",
    "    \n",
    "    case class Atomic(relation: Relation, arguments: Vector[Term]) extends Formula{\n",
    "        require(relation.degree == arguments.length)\n",
    "    }\n",
    "\n",
    "    case class Or(p: Formula, q: Formula) extends Formula\n",
    "\n",
    "    case class And(p: Formula, q: Formula) extends Formula\n",
    "\n",
    "    case class Implies(p: Formula, q: Formula) extends Formula\n",
    "\n",
    "    case class Equivalent(p: Formula, q: Formula) extends Formula\n",
    "\n",
    "    case class Not(p: Formula) extends Formula\n",
    "\n",
    "    case class ForAll(x: Term.Var, p: Formula) extends Formula\n",
    "\n",
    "    case class Exists(x: Term.Var, p: Formula) extends Formula\n",
    "\n",
    "}"
   ]
  },
  {
   "cell_type": "code",
   "execution_count": 4,
   "metadata": {},
   "outputs": [
    {
     "data": {
      "text/plain": [
       "\u001b[36msum\u001b[39m: \u001b[32mFunction\u001b[39m = \u001b[33mFunction\u001b[39m(\u001b[32m\"+\"\u001b[39m, \u001b[32m2\u001b[39m)\n",
       "\u001b[36msucc\u001b[39m: \u001b[32mFunction\u001b[39m = \u001b[33mFunction\u001b[39m(\u001b[32m\"succ\"\u001b[39m, \u001b[32m1\u001b[39m)\n",
       "\u001b[32mimport \u001b[39m\u001b[36mTerm._\n",
       "\u001b[39m\n",
       "\u001b[36mn\u001b[39m: \u001b[32mVar\u001b[39m = \u001b[33mVar\u001b[39m(\u001b[32m\"n\"\u001b[39m)\n",
       "\u001b[36mm\u001b[39m: \u001b[32mVar\u001b[39m = \u001b[33mVar\u001b[39m(\u001b[32m\"m\"\u001b[39m)\n",
       "\u001b[36mone\u001b[39m: \u001b[32mConst\u001b[39m = \u001b[33mConst\u001b[39m(\u001b[32m\"1\"\u001b[39m)\n",
       "\u001b[36mres3_6\u001b[39m: \u001b[32mRecursive\u001b[39m = \u001b[33mRecursive\u001b[39m(\u001b[33mFunction\u001b[39m(\u001b[32m\"+\"\u001b[39m, \u001b[32m2\u001b[39m), \u001b[33mVector\u001b[39m(\u001b[33mVar\u001b[39m(\u001b[32m\"n\"\u001b[39m), \u001b[33mVar\u001b[39m(\u001b[32m\"m\"\u001b[39m)))\n",
       "\u001b[36mres3_7\u001b[39m: \u001b[32mRecursive\u001b[39m = \u001b[33mRecursive\u001b[39m(\u001b[33mFunction\u001b[39m(\u001b[32m\"succ\"\u001b[39m, \u001b[32m1\u001b[39m), \u001b[33mVector\u001b[39m(\u001b[33mVar\u001b[39m(\u001b[32m\"n\"\u001b[39m)))\n",
       "\u001b[36mtwo\u001b[39m: \u001b[32mRecursive\u001b[39m = \u001b[33mRecursive\u001b[39m(\u001b[33mFunction\u001b[39m(\u001b[32m\"succ\"\u001b[39m, \u001b[32m1\u001b[39m), \u001b[33mVector\u001b[39m(\u001b[33mConst\u001b[39m(\u001b[32m\"1\"\u001b[39m)))"
      ]
     },
     "execution_count": 4,
     "metadata": {},
     "output_type": "execute_result"
    }
   ],
   "source": [
    "val sum = Function(\"+\", 2)\n",
    "val succ = Function(\"succ\", 1)\n",
    "// Some valid terms\n",
    "import Term._\n",
    "val n = Var(\"n\")\n",
    "val m = Var(\"m\")\n",
    "val one = Const(\"1\")\n",
    "Recursive(sum, Vector(n, m))\n",
    "Recursive(succ, Vector(n))\n",
    "val two = Recursive(succ, Vector(one))"
   ]
  },
  {
   "cell_type": "code",
   "execution_count": 6,
   "metadata": {},
   "outputs": [
    {
     "data": {
      "text/plain": [
       "\u001b[32mimport \u001b[39m\u001b[36mscala.util.Try\n",
       "\u001b[39m\n",
       "\u001b[36mwrong\u001b[39m: \u001b[32mTry\u001b[39m[\u001b[32mRecursive\u001b[39m] = \u001b[33mFailure\u001b[39m(\n",
       "  java.lang.IllegalArgumentException: requirement failed\n",
       ")"
      ]
     },
     "execution_count": 6,
     "metadata": {},
     "output_type": "execute_result"
    }
   ],
   "source": [
    "// An invalid term\n",
    "import scala.util.Try\n",
    "val wrong = Try(Recursive(succ, Vector(one, n)))"
   ]
  },
  {
   "cell_type": "code",
   "execution_count": 9,
   "metadata": {},
   "outputs": [
    {
     "data": {
      "text/plain": [
       "\u001b[32mimport \u001b[39m\u001b[36mFormula._\n",
       "\u001b[39m\n",
       "\u001b[36mf1\u001b[39m: \u001b[32mEquality\u001b[39m = \u001b[33mEquality\u001b[39m(\n",
       "  \u001b[33mConst\u001b[39m(\u001b[32m\"1\"\u001b[39m),\n",
       "  \u001b[33mRecursive\u001b[39m(\u001b[33mFunction\u001b[39m(\u001b[32m\"succ\"\u001b[39m, \u001b[32m1\u001b[39m), \u001b[33mVector\u001b[39m(\u001b[33mConst\u001b[39m(\u001b[32m\"1\"\u001b[39m)))\n",
       ")\n",
       "\u001b[36mf2\u001b[39m: \u001b[32mEquality\u001b[39m = \u001b[33mEquality\u001b[39m(\u001b[33mVar\u001b[39m(\u001b[32m\"n\"\u001b[39m), \u001b[33mConst\u001b[39m(\u001b[32m\"1\"\u001b[39m))\n",
       "\u001b[36mleq\u001b[39m: \u001b[32mRelation\u001b[39m = \u001b[33mRelation\u001b[39m(\u001b[32m\"<=\"\u001b[39m, \u001b[32m2\u001b[39m)\n",
       "\u001b[36mf3\u001b[39m: \u001b[32mAtomic\u001b[39m = \u001b[33mAtomic\u001b[39m(\n",
       "  \u001b[33mRelation\u001b[39m(\u001b[32m\"<=\"\u001b[39m, \u001b[32m2\u001b[39m),\n",
       "  \u001b[33mVector\u001b[39m(\u001b[33mConst\u001b[39m(\u001b[32m\"1\"\u001b[39m), \u001b[33mRecursive\u001b[39m(\u001b[33mFunction\u001b[39m(\u001b[32m\"succ\"\u001b[39m, \u001b[32m1\u001b[39m), \u001b[33mVector\u001b[39m(\u001b[33mConst\u001b[39m(\u001b[32m\"1\"\u001b[39m))))\n",
       ")\n",
       "\u001b[36mf4\u001b[39m: \u001b[32mForAll\u001b[39m = \u001b[33mForAll\u001b[39m(\u001b[33mVar\u001b[39m(\u001b[32m\"n\"\u001b[39m), \u001b[33mEquality\u001b[39m(\u001b[33mVar\u001b[39m(\u001b[32m\"n\"\u001b[39m), \u001b[33mConst\u001b[39m(\u001b[32m\"1\"\u001b[39m)))\n",
       "\u001b[36mf5\u001b[39m: \u001b[32mExists\u001b[39m = \u001b[33mExists\u001b[39m(\u001b[33mVar\u001b[39m(\u001b[32m\"n\"\u001b[39m), \u001b[33mEquality\u001b[39m(\u001b[33mVar\u001b[39m(\u001b[32m\"n\"\u001b[39m), \u001b[33mConst\u001b[39m(\u001b[32m\"1\"\u001b[39m)))\n",
       "\u001b[36mf6\u001b[39m: \u001b[32mForAll\u001b[39m = \u001b[33mForAll\u001b[39m(\n",
       "  \u001b[33mVar\u001b[39m(\u001b[32m\"m\"\u001b[39m),\n",
       "  \u001b[33mEquality\u001b[39m(\u001b[33mConst\u001b[39m(\u001b[32m\"1\"\u001b[39m), \u001b[33mRecursive\u001b[39m(\u001b[33mFunction\u001b[39m(\u001b[32m\"succ\"\u001b[39m, \u001b[32m1\u001b[39m), \u001b[33mVector\u001b[39m(\u001b[33mConst\u001b[39m(\u001b[32m\"1\"\u001b[39m))))\n",
       ")"
      ]
     },
     "execution_count": 9,
     "metadata": {},
     "output_type": "execute_result"
    }
   ],
   "source": [
    "// Some formulas\n",
    "import Formula._\n",
    "val f1 = Equality(one, two)\n",
    "val f2 = Equality(n, one)\n",
    "val leq = Relation(\"<=\", 2)\n",
    "val f3 = Atomic(leq, Vector(one, two))\n",
    "val f4 = ForAll(n, f2)\n",
    "val f5 = Exists(n, f2)\n",
    "val f6 = ForAll(m, f1)"
   ]
  },
  {
   "cell_type": "markdown",
   "metadata": {},
   "source": [
    "The formulas in mathematical notation are\n",
    "\n",
    "* $1 = 2$\n",
    "* $n = 1$\n",
    "* $1 \\leq 2$\n",
    "* $\\forall n\\ n = 1$\n",
    "* $\\exists n\\ n = 1$\n",
    "* $\\exists m\\ 1 = 2$"
   ]
  },
  {
   "cell_type": "markdown",
   "metadata": {},
   "source": [
    "## The language of Sets\n",
    "\n",
    "The language of sets has:\n",
    "\n",
    "* a single constant $\\phi$\n",
    "* a single relation $\\in$ of degree $2$.\n",
    "\n",
    "We introduce these as well as a convenience method."
   ]
  },
  {
   "cell_type": "code",
   "execution_count": 10,
   "metadata": {},
   "outputs": [
    {
     "data": {
      "text/plain": [
       "\u001b[32mimport \u001b[39m\u001b[36mTerm._, Formula._\n",
       "\n",
       "\u001b[39m\n",
       "\u001b[36mphi\u001b[39m: \u001b[32mConst\u001b[39m = \u001b[33mConst\u001b[39m(\u001b[32m\"empty-set\"\u001b[39m)\n",
       "\u001b[36min\u001b[39m: \u001b[32mRelation\u001b[39m = \u001b[33mRelation\u001b[39m(\u001b[32m\"in\"\u001b[39m, \u001b[32m2\u001b[39m)\n",
       "defined \u001b[32mfunction\u001b[39m \u001b[36mbelongs\u001b[39m"
      ]
     },
     "execution_count": 10,
     "metadata": {},
     "output_type": "execute_result"
    }
   ],
   "source": [
    "import Term._, Formula._\n",
    "\n",
    "val phi = Const(\"empty-set\")\n",
    "val in = Relation(\"in\", 2)\n",
    "\n",
    "def belongs(x: Term, y: Term) = Formula.Atomic(in, Vector(x, y))"
   ]
  },
  {
   "cell_type": "markdown",
   "metadata": {},
   "source": [
    "As an example, we define extensionality, i.e. if two sets have the same members, they are equal.\n",
    "$$\\forall x\\forall y((\\forall a\\ (a\\in x\\iff a \\in y)) \\implies (x = y))$$"
   ]
  },
  {
   "cell_type": "code",
   "execution_count": 11,
   "metadata": {},
   "outputs": [
    {
     "data": {
      "text/plain": [
       "\u001b[36ma\u001b[39m: \u001b[32mVar\u001b[39m = \u001b[33mVar\u001b[39m(\u001b[32m\"a\"\u001b[39m)\n",
       "defined \u001b[32mfunction\u001b[39m \u001b[36msameMembers\u001b[39m"
      ]
     },
     "execution_count": 11,
     "metadata": {},
     "output_type": "execute_result"
    }
   ],
   "source": [
    "val a = Var(\"a\")\n",
    "def sameMembers(p: Term, q: Term): Formula = \n",
    "    ForAll(a, Equivalent(belongs(a, p), belongs(a, q)))"
   ]
  },
  {
   "cell_type": "code",
   "execution_count": 12,
   "metadata": {},
   "outputs": [
    {
     "data": {
      "text/plain": [
       "\u001b[36mx\u001b[39m: \u001b[32mVar\u001b[39m = \u001b[33mVar\u001b[39m(\u001b[32m\"x\"\u001b[39m)\n",
       "\u001b[36my\u001b[39m: \u001b[32mVar\u001b[39m = \u001b[33mVar\u001b[39m(\u001b[32m\"y\"\u001b[39m)\n",
       "\u001b[36mextensionality\u001b[39m: \u001b[32mForAll\u001b[39m = \u001b[33mForAll\u001b[39m(\n",
       "  \u001b[33mVar\u001b[39m(\u001b[32m\"x\"\u001b[39m),\n",
       "  \u001b[33mForAll\u001b[39m(\n",
       "    \u001b[33mVar\u001b[39m(\u001b[32m\"y\"\u001b[39m),\n",
       "    \u001b[33mImplies\u001b[39m(\n",
       "      \u001b[33mForAll\u001b[39m(\n",
       "        \u001b[33mVar\u001b[39m(\u001b[32m\"a\"\u001b[39m),\n",
       "        \u001b[33mEquivalent\u001b[39m(\n",
       "          \u001b[33mAtomic\u001b[39m(\u001b[33mRelation\u001b[39m(\u001b[32m\"in\"\u001b[39m, \u001b[32m2\u001b[39m), \u001b[33mVector\u001b[39m(\u001b[33mVar\u001b[39m(\u001b[32m\"a\"\u001b[39m), \u001b[33mVar\u001b[39m(\u001b[32m\"x\"\u001b[39m))),\n",
       "          \u001b[33mAtomic\u001b[39m(\u001b[33mRelation\u001b[39m(\u001b[32m\"in\"\u001b[39m, \u001b[32m2\u001b[39m), \u001b[33mVector\u001b[39m(\u001b[33mVar\u001b[39m(\u001b[32m\"a\"\u001b[39m), \u001b[33mVar\u001b[39m(\u001b[32m\"y\"\u001b[39m)))\n",
       "        )\n",
       "      ),\n",
       "      \u001b[33mEquality\u001b[39m(\u001b[33mVar\u001b[39m(\u001b[32m\"x\"\u001b[39m), \u001b[33mVar\u001b[39m(\u001b[32m\"y\"\u001b[39m))\n",
       "    )\n",
       "  )\n",
       ")"
      ]
     },
     "execution_count": 12,
     "metadata": {},
     "output_type": "execute_result"
    }
   ],
   "source": [
    "val x = Var(\"x\")\n",
    "val y = Var(\"y\")\n",
    "val extensionality = \n",
    "   ForAll(x, \n",
    "         ForAll(y,\n",
    "               Implies(sameMembers(x, y), Equality(x, y))))\n",
    " "
   ]
  },
  {
   "cell_type": "markdown",
   "metadata": {},
   "source": [
    "## Variables and free variables\n",
    "\n",
    "* The _value_ of a term can depend on some variables.\n",
    "* The _truth value_ of a formula can depend on some variables.\n",
    "* These are called _free variables_.\n",
    "\n",
    "### Examples\n",
    "\n",
    "In the language of natural numbers\n",
    "\n",
    "* $1 = 2$; no free variables\n",
    "* $n = 1$; free variable n\n",
    "* $1 \\leq 2$; no free variables\n",
    "* $\\forall n\\ n = 1$; no free variables\n",
    "* $\\exists n\\ n +5 < m$; free variable m\n",
    "* $\\exists m\\ 1 = 2$; no free variables\n",
    "\n"
   ]
  },
  {
   "cell_type": "code",
   "execution_count": 18,
   "metadata": {},
   "outputs": [
    {
     "data": {
      "text/plain": [
       "defined \u001b[32mfunction\u001b[39m \u001b[36mvariables\u001b[39m"
      ]
     },
     "execution_count": 18,
     "metadata": {},
     "output_type": "execute_result"
    }
   ],
   "source": [
    "// Variable in a term\n",
    "def variables(t: Term): Set[Var] = t match {\n",
    "        case Const(name) => Set()\n",
    "        case Recursive(function, arguments) =>\n",
    "            for{\n",
    "                arg : Term <- arguments.toSet\n",
    "                x <- variables(arg)\n",
    "            } yield x\n",
    "        case Var(name) => Set(Var(name))\n",
    "    }"
   ]
  },
  {
   "cell_type": "code",
   "execution_count": 19,
   "metadata": {},
   "outputs": [
    {
     "data": {
      "text/plain": [
       "\u001b[36mres18\u001b[39m: \u001b[32mSet\u001b[39m[\u001b[32mVar\u001b[39m] = \u001b[33mSet\u001b[39m(\u001b[33mVar\u001b[39m(\u001b[32m\"n\"\u001b[39m), \u001b[33mVar\u001b[39m(\u001b[32m\"m\"\u001b[39m))"
      ]
     },
     "execution_count": 19,
     "metadata": {},
     "output_type": "execute_result"
    }
   ],
   "source": [
    "variables(Recursive(sum, Vector(n, m)))"
   ]
  },
  {
   "cell_type": "code",
   "execution_count": 20,
   "metadata": {},
   "outputs": [
    {
     "data": {
      "text/plain": [
       "\u001b[36mp\u001b[39m: \u001b[32mRecursive\u001b[39m = \u001b[33mRecursive\u001b[39m(\u001b[33mFunction\u001b[39m(\u001b[32m\"succ\"\u001b[39m, \u001b[32m1\u001b[39m), \u001b[33mVector\u001b[39m(\u001b[33mVar\u001b[39m(\u001b[32m\"m\"\u001b[39m)))\n",
       "\u001b[36mres19_1\u001b[39m: \u001b[32mSet\u001b[39m[\u001b[32mVar\u001b[39m] = \u001b[33mSet\u001b[39m(\u001b[33mVar\u001b[39m(\u001b[32m\"n\"\u001b[39m), \u001b[33mVar\u001b[39m(\u001b[32m\"m\"\u001b[39m))"
      ]
     },
     "execution_count": 20,
     "metadata": {},
     "output_type": "execute_result"
    }
   ],
   "source": [
    "val p = Recursive(succ, Vector(m))\n",
    "variables(Recursive(sum, Vector(n, p)))"
   ]
  },
  {
   "cell_type": "code",
   "execution_count": 21,
   "metadata": {},
   "outputs": [
    {
     "data": {
      "text/plain": [
       "\u001b[36mres20\u001b[39m: \u001b[32mSet\u001b[39m[\u001b[32mVar\u001b[39m] = \u001b[33mSet\u001b[39m(\u001b[33mVar\u001b[39m(\u001b[32m\"m\"\u001b[39m))"
      ]
     },
     "execution_count": 21,
     "metadata": {},
     "output_type": "execute_result"
    }
   ],
   "source": [
    "variables(p)"
   ]
  },
  {
   "cell_type": "code",
   "execution_count": 22,
   "metadata": {},
   "outputs": [
    {
     "data": {
      "text/plain": [
       "defined \u001b[32mfunction\u001b[39m \u001b[36mfreeVariables\u001b[39m"
      ]
     },
     "execution_count": 22,
     "metadata": {},
     "output_type": "execute_result"
    }
   ],
   "source": [
    "def freeVariables(fmla: Formula) : Set[Var] = fmla match {\n",
    "    case Equality(lhs, rhs) => \n",
    "        variables(lhs) union variables(rhs)\n",
    "    case And(p, q) => \n",
    "        freeVariables(p) union freeVariables(q)\n",
    "    case Implies(p, q) => \n",
    "        freeVariables(p) union freeVariables(q)\n",
    "    case Equivalent(p, q) => \n",
    "        freeVariables(p) union freeVariables(q)\n",
    "    case Not(p) => \n",
    "        freeVariables(p)\n",
    "    case ForAll(x, p) => \n",
    "        freeVariables(p) - x\n",
    "    case Atomic(relation, arguments) =>\n",
    "        for {\n",
    "            arg: Term <- arguments.toSet\n",
    "            x <- variables(arg)\n",
    "        } yield x\n",
    "    case Exists(x, p) => \n",
    "        freeVariables(p) - x \n",
    "    case Or(p, q) => \n",
    "        freeVariables(p) union freeVariables(q)\n",
    "    }"
   ]
  },
  {
   "cell_type": "code",
   "execution_count": 23,
   "metadata": {},
   "outputs": [
    {
     "data": {
      "text/plain": [
       "\u001b[36mfmla1\u001b[39m: \u001b[32mExists\u001b[39m = \u001b[33mExists\u001b[39m(\n",
       "  \u001b[33mVar\u001b[39m(\u001b[32m\"x\"\u001b[39m),\n",
       "  \u001b[33mAtomic\u001b[39m(\u001b[33mRelation\u001b[39m(\u001b[32m\"in\"\u001b[39m, \u001b[32m2\u001b[39m), \u001b[33mVector\u001b[39m(\u001b[33mVar\u001b[39m(\u001b[32m\"x\"\u001b[39m), \u001b[33mVar\u001b[39m(\u001b[32m\"y\"\u001b[39m)))\n",
       ")\n",
       "\u001b[36mfmla2\u001b[39m: \u001b[32mForAll\u001b[39m = \u001b[33mForAll\u001b[39m(\n",
       "  \u001b[33mVar\u001b[39m(\u001b[32m\"y\"\u001b[39m),\n",
       "  \u001b[33mExists\u001b[39m(\u001b[33mVar\u001b[39m(\u001b[32m\"x\"\u001b[39m), \u001b[33mAtomic\u001b[39m(\u001b[33mRelation\u001b[39m(\u001b[32m\"in\"\u001b[39m, \u001b[32m2\u001b[39m), \u001b[33mVector\u001b[39m(\u001b[33mVar\u001b[39m(\u001b[32m\"x\"\u001b[39m), \u001b[33mVar\u001b[39m(\u001b[32m\"y\"\u001b[39m))))\n",
       ")\n",
       "\u001b[36mfmla3\u001b[39m: \u001b[32mAtomic\u001b[39m = \u001b[33mAtomic\u001b[39m(\u001b[33mRelation\u001b[39m(\u001b[32m\"in\"\u001b[39m, \u001b[32m2\u001b[39m), \u001b[33mVector\u001b[39m(\u001b[33mVar\u001b[39m(\u001b[32m\"x\"\u001b[39m), \u001b[33mVar\u001b[39m(\u001b[32m\"y\"\u001b[39m)))"
      ]
     },
     "execution_count": 23,
     "metadata": {},
     "output_type": "execute_result"
    }
   ],
   "source": [
    "val fmla1 = Exists(x, belongs(x, y))\n",
    "val fmla2 = ForAll(y, fmla1)\n",
    "val fmla3 = belongs(x, y)"
   ]
  },
  {
   "cell_type": "code",
   "execution_count": 24,
   "metadata": {},
   "outputs": [
    {
     "data": {
      "text/plain": [
       "\u001b[36mres23_0\u001b[39m: \u001b[32mSet\u001b[39m[\u001b[32mVar\u001b[39m] = \u001b[33mSet\u001b[39m(\u001b[33mVar\u001b[39m(\u001b[32m\"y\"\u001b[39m))\n",
       "\u001b[36mres23_1\u001b[39m: \u001b[32mSet\u001b[39m[\u001b[32mVar\u001b[39m] = \u001b[33mSet\u001b[39m()\n",
       "\u001b[36mres23_2\u001b[39m: \u001b[32mSet\u001b[39m[\u001b[32mVar\u001b[39m] = \u001b[33mSet\u001b[39m(\u001b[33mVar\u001b[39m(\u001b[32m\"x\"\u001b[39m), \u001b[33mVar\u001b[39m(\u001b[32m\"y\"\u001b[39m))"
      ]
     },
     "execution_count": 24,
     "metadata": {},
     "output_type": "execute_result"
    }
   ],
   "source": [
    "freeVariables(fmla1)\n",
    "freeVariables(fmla2)\n",
    "freeVariables(fmla3)"
   ]
  },
  {
   "cell_type": "code",
   "execution_count": null,
   "metadata": {},
   "outputs": [],
   "source": []
  },
  {
   "cell_type": "code",
   "execution_count": null,
   "metadata": {},
   "outputs": [],
   "source": []
  }
 ],
 "metadata": {
  "kernelspec": {
   "display_name": "Scala",
   "language": "scala",
   "name": "scala"
  },
  "language_info": {
   "codemirror_mode": "text/x-scala",
   "file_extension": ".scala",
   "mimetype": "text/x-scala",
   "name": "scala",
   "nbconvert_exporter": "script",
   "version": "2.12.8"
  }
 },
 "nbformat": 4,
 "nbformat_minor": 2
}
