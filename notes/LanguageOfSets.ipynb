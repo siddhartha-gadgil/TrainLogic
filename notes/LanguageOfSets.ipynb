{
 "cells": [
  {
   "cell_type": "markdown",
   "metadata": {},
   "source": [
    "# First-order languages and Set Theory\n",
    "\n",
    "## First-Order languages\n",
    "\n",
    "A first-order language is determined by a vocabulary consisting of _variables_, _constants_, _functions_ and _relations_. First, we encode functions and relations."
   ]
  },
  {
   "cell_type": "code",
   "execution_count": 1,
   "metadata": {},
   "outputs": [
    {
     "data": {
      "text/plain": [
       "defined \u001b[32mclass\u001b[39m \u001b[36mFunction\u001b[39m\n",
       "defined \u001b[32mclass\u001b[39m \u001b[36mRelation\u001b[39m"
      ]
     },
     "execution_count": 1,
     "metadata": {},
     "output_type": "execute_result"
    }
   ],
   "source": [
    "case class Function(name: String, degree: Int)\n",
    "\n",
    "case class Relation(name: String, degree: Int)"
   ]
  },
  {
   "cell_type": "markdown",
   "metadata": {},
   "source": [
    "We form two kinds of _expressions_, _terms_ and _formulas_ using these. Both of these are defined recursively."
   ]
  },
  {
   "cell_type": "code",
   "execution_count": 2,
   "metadata": {},
   "outputs": [
    {
     "data": {
      "text/plain": [
       "defined \u001b[32mtrait\u001b[39m \u001b[36mExpression\u001b[39m\n",
       "defined \u001b[32mtrait\u001b[39m \u001b[36mTerm\u001b[39m\n",
       "defined \u001b[32mtrait\u001b[39m \u001b[36mFormula\u001b[39m\n",
       "defined \u001b[32mobject\u001b[39m \u001b[36mTerm\u001b[39m\n",
       "defined \u001b[32mobject\u001b[39m \u001b[36mFormula\u001b[39m"
      ]
     },
     "execution_count": 2,
     "metadata": {},
     "output_type": "execute_result"
    }
   ],
   "source": [
    "sealed trait Expression\n",
    "\n",
    "sealed trait Term extends Expression\n",
    "\n",
    "sealed trait Formula extends Expression\n",
    "\n",
    "object Term{\n",
    "    case class Var(name: String) extends Term\n",
    "    \n",
    "    case class Const(name: String) extends Term \n",
    "\n",
    "    case class Recursive(function: Function, arguments: Vector[Term]) extends Term{\n",
    "        require(function.degree == arguments.length)\n",
    "    }\n",
    "}\n",
    "\n",
    "object Formula{\n",
    "    case class Equality(lhs: Term, rhs: Term) extends Formula\n",
    "    \n",
    "    case class Atomic(relation: Relation, arguments: Vector[Term]) extends Formula{\n",
    "        require(relation.degree == arguments.length)\n",
    "    }\n",
    "\n",
    "    case class Or(p: Formula, q: Formula) extends Formula\n",
    "\n",
    "    case class And(p: Formula, q: Formula) extends Formula\n",
    "\n",
    "    case class Implies(p: Formula, q: Formula) extends Formula\n",
    "\n",
    "    case class Equivalent(p: Formula, q: Formula) extends Formula\n",
    "\n",
    "    case class Not(p: Formula) extends Formula\n",
    "\n",
    "    case class ForAll(x: Term.Var, p: Formula) extends Formula\n",
    "\n",
    "    case class Exists(x: Term.Var, p: Formula) extends Formula\n",
    "\n",
    "}"
   ]
  },
  {
   "cell_type": "code",
   "execution_count": 3,
   "metadata": {},
   "outputs": [
    {
     "data": {
      "text/plain": [
       "\u001b[36msum\u001b[39m: \u001b[32mFunction\u001b[39m = \u001b[33mFunction\u001b[39m(\u001b[32m\"+\"\u001b[39m, \u001b[32m2\u001b[39m)\n",
       "\u001b[36msucc\u001b[39m: \u001b[32mFunction\u001b[39m = \u001b[33mFunction\u001b[39m(\u001b[32m\"succ\"\u001b[39m, \u001b[32m1\u001b[39m)\n",
       "\u001b[32mimport \u001b[39m\u001b[36mTerm._\n",
       "\u001b[39m\n",
       "\u001b[36mn\u001b[39m: \u001b[32mVar\u001b[39m = \u001b[33mVar\u001b[39m(\u001b[32m\"n\"\u001b[39m)\n",
       "\u001b[36mm\u001b[39m: \u001b[32mVar\u001b[39m = \u001b[33mVar\u001b[39m(\u001b[32m\"m\"\u001b[39m)\n",
       "\u001b[36mone\u001b[39m: \u001b[32mConst\u001b[39m = \u001b[33mConst\u001b[39m(\u001b[32m\"1\"\u001b[39m)\n",
       "\u001b[36mres2_6\u001b[39m: \u001b[32mRecursive\u001b[39m = \u001b[33mRecursive\u001b[39m(\u001b[33mFunction\u001b[39m(\u001b[32m\"+\"\u001b[39m, \u001b[32m2\u001b[39m), \u001b[33mVector\u001b[39m(\u001b[33mVar\u001b[39m(\u001b[32m\"n\"\u001b[39m), \u001b[33mVar\u001b[39m(\u001b[32m\"m\"\u001b[39m)))\n",
       "\u001b[36mres2_7\u001b[39m: \u001b[32mRecursive\u001b[39m = \u001b[33mRecursive\u001b[39m(\u001b[33mFunction\u001b[39m(\u001b[32m\"succ\"\u001b[39m, \u001b[32m1\u001b[39m), \u001b[33mVector\u001b[39m(\u001b[33mVar\u001b[39m(\u001b[32m\"n\"\u001b[39m)))\n",
       "\u001b[36mtwo\u001b[39m: \u001b[32mRecursive\u001b[39m = \u001b[33mRecursive\u001b[39m(\u001b[33mFunction\u001b[39m(\u001b[32m\"succ\"\u001b[39m, \u001b[32m1\u001b[39m), \u001b[33mVector\u001b[39m(\u001b[33mConst\u001b[39m(\u001b[32m\"1\"\u001b[39m)))"
      ]
     },
     "execution_count": 3,
     "metadata": {},
     "output_type": "execute_result"
    }
   ],
   "source": [
    "val sum = Function(\"+\", 2)\n",
    "val succ = Function(\"succ\", 1)\n",
    "// Some valid terms\n",
    "import Term._\n",
    "val n = Var(\"n\")\n",
    "val m = Var(\"m\")\n",
    "val one = Const(\"1\")\n",
    "Recursive(sum, Vector(n, m))\n",
    "Recursive(succ, Vector(n))\n",
    "val two = Recursive(succ, Vector(one))"
   ]
  },
  {
   "cell_type": "code",
   "execution_count": 4,
   "metadata": {},
   "outputs": [
    {
     "data": {
      "text/plain": [
       "\u001b[32mimport \u001b[39m\u001b[36mscala.util.Try\n",
       "\u001b[39m\n",
       "\u001b[36mwrong\u001b[39m: \u001b[32mTry\u001b[39m[\u001b[32mRecursive\u001b[39m] = \u001b[33mFailure\u001b[39m(\n",
       "  java.lang.IllegalArgumentException: requirement failed\n",
       ")"
      ]
     },
     "execution_count": 4,
     "metadata": {},
     "output_type": "execute_result"
    }
   ],
   "source": [
    "// An invalid term\n",
    "import scala.util.Try\n",
    "val wrong = Try(Recursive(succ, Vector(one, n)))"
   ]
  },
  {
   "cell_type": "code",
   "execution_count": 5,
   "metadata": {},
   "outputs": [
    {
     "data": {
      "text/plain": [
       "\u001b[32mimport \u001b[39m\u001b[36mFormula._\n",
       "\u001b[39m\n",
       "\u001b[36mf1\u001b[39m: \u001b[32mEquality\u001b[39m = \u001b[33mEquality\u001b[39m(\n",
       "  \u001b[33mConst\u001b[39m(\u001b[32m\"1\"\u001b[39m),\n",
       "  \u001b[33mRecursive\u001b[39m(\u001b[33mFunction\u001b[39m(\u001b[32m\"succ\"\u001b[39m, \u001b[32m1\u001b[39m), \u001b[33mVector\u001b[39m(\u001b[33mConst\u001b[39m(\u001b[32m\"1\"\u001b[39m)))\n",
       ")\n",
       "\u001b[36mf2\u001b[39m: \u001b[32mEquality\u001b[39m = \u001b[33mEquality\u001b[39m(\u001b[33mVar\u001b[39m(\u001b[32m\"n\"\u001b[39m), \u001b[33mConst\u001b[39m(\u001b[32m\"1\"\u001b[39m))\n",
       "\u001b[36mleq\u001b[39m: \u001b[32mRelation\u001b[39m = \u001b[33mRelation\u001b[39m(\u001b[32m\"<=\"\u001b[39m, \u001b[32m2\u001b[39m)\n",
       "\u001b[36mf3\u001b[39m: \u001b[32mAtomic\u001b[39m = \u001b[33mAtomic\u001b[39m(\n",
       "  \u001b[33mRelation\u001b[39m(\u001b[32m\"<=\"\u001b[39m, \u001b[32m2\u001b[39m),\n",
       "  \u001b[33mVector\u001b[39m(\u001b[33mConst\u001b[39m(\u001b[32m\"1\"\u001b[39m), \u001b[33mRecursive\u001b[39m(\u001b[33mFunction\u001b[39m(\u001b[32m\"succ\"\u001b[39m, \u001b[32m1\u001b[39m), \u001b[33mVector\u001b[39m(\u001b[33mConst\u001b[39m(\u001b[32m\"1\"\u001b[39m))))\n",
       ")\n",
       "\u001b[36mf4\u001b[39m: \u001b[32mForAll\u001b[39m = \u001b[33mForAll\u001b[39m(\u001b[33mVar\u001b[39m(\u001b[32m\"n\"\u001b[39m), \u001b[33mEquality\u001b[39m(\u001b[33mVar\u001b[39m(\u001b[32m\"n\"\u001b[39m), \u001b[33mConst\u001b[39m(\u001b[32m\"1\"\u001b[39m)))\n",
       "\u001b[36mf5\u001b[39m: \u001b[32mExists\u001b[39m = \u001b[33mExists\u001b[39m(\u001b[33mVar\u001b[39m(\u001b[32m\"n\"\u001b[39m), \u001b[33mEquality\u001b[39m(\u001b[33mVar\u001b[39m(\u001b[32m\"n\"\u001b[39m), \u001b[33mConst\u001b[39m(\u001b[32m\"1\"\u001b[39m)))\n",
       "\u001b[36mf6\u001b[39m: \u001b[32mForAll\u001b[39m = \u001b[33mForAll\u001b[39m(\n",
       "  \u001b[33mVar\u001b[39m(\u001b[32m\"m\"\u001b[39m),\n",
       "  \u001b[33mEquality\u001b[39m(\u001b[33mConst\u001b[39m(\u001b[32m\"1\"\u001b[39m), \u001b[33mRecursive\u001b[39m(\u001b[33mFunction\u001b[39m(\u001b[32m\"succ\"\u001b[39m, \u001b[32m1\u001b[39m), \u001b[33mVector\u001b[39m(\u001b[33mConst\u001b[39m(\u001b[32m\"1\"\u001b[39m))))\n",
       ")"
      ]
     },
     "execution_count": 5,
     "metadata": {},
     "output_type": "execute_result"
    }
   ],
   "source": [
    "// Some formulas\n",
    "import Formula._\n",
    "val f1 = Equality(one, two)\n",
    "val f2 = Equality(n, one)\n",
    "val leq = Relation(\"<=\", 2)\n",
    "val f3 = Atomic(leq, Vector(one, two))\n",
    "val f4 = ForAll(n, f2)\n",
    "val f5 = Exists(n, f2)\n",
    "val f6 = ForAll(m, f1)"
   ]
  },
  {
   "cell_type": "markdown",
   "metadata": {},
   "source": [
    "The formulas in mathematical notation are\n",
    "\n",
    "* $1 = 2$\n",
    "* $n = 1$\n",
    "* $1 \\leq 2$\n",
    "* $\\forall n\\ n = 1$\n",
    "* $\\exists n\\ n = 1$\n",
    "* $\\exists m\\ 1 = 2$"
   ]
  },
  {
   "cell_type": "markdown",
   "metadata": {},
   "source": [
    "## The language of Sets\n",
    "\n",
    "The language of sets has:\n",
    "\n",
    "* a single constant $\\phi$\n",
    "* a single relation $\\in$ of degree $2$.\n",
    "\n",
    "We introduce these as well as a convenience method."
   ]
  },
  {
   "cell_type": "code",
   "execution_count": 6,
   "metadata": {},
   "outputs": [
    {
     "data": {
      "text/plain": [
       "\u001b[32mimport \u001b[39m\u001b[36mTerm._, Formula._\n",
       "\n",
       "\u001b[39m\n",
       "\u001b[36mphi\u001b[39m: \u001b[32mConst\u001b[39m = \u001b[33mConst\u001b[39m(\u001b[32m\"empty-set\"\u001b[39m)\n",
       "\u001b[36min\u001b[39m: \u001b[32mRelation\u001b[39m = \u001b[33mRelation\u001b[39m(\u001b[32m\"in\"\u001b[39m, \u001b[32m2\u001b[39m)\n",
       "defined \u001b[32mfunction\u001b[39m \u001b[36mbelongs\u001b[39m"
      ]
     },
     "execution_count": 6,
     "metadata": {},
     "output_type": "execute_result"
    }
   ],
   "source": [
    "import Term._, Formula._\n",
    "\n",
    "val phi = Const(\"empty-set\")\n",
    "val in = Relation(\"in\", 2)\n",
    "\n",
    "def belongs(x: Term, y: Term) = Formula.Atomic(in, Vector(x, y))"
   ]
  },
  {
   "cell_type": "markdown",
   "metadata": {},
   "source": [
    "As an example, we define extensionality, i.e. if two sets have the same members, they are equal.\n",
    "$$\\forall x\\forall y((\\forall a\\ (a\\in x\\iff a \\in y)) \\implies (x = y))$$"
   ]
  },
  {
   "cell_type": "code",
   "execution_count": 7,
   "metadata": {},
   "outputs": [
    {
     "data": {
      "text/plain": [
       "\u001b[36ma\u001b[39m: \u001b[32mVar\u001b[39m = \u001b[33mVar\u001b[39m(\u001b[32m\"a\"\u001b[39m)\n",
       "defined \u001b[32mfunction\u001b[39m \u001b[36msameMembers\u001b[39m"
      ]
     },
     "execution_count": 7,
     "metadata": {},
     "output_type": "execute_result"
    }
   ],
   "source": [
    "val a = Var(\"a\")\n",
    "def sameMembers(p: Term, q: Term): Formula = \n",
    "    ForAll(a, Equivalent(belongs(a, p), belongs(a, q)))"
   ]
  },
  {
   "cell_type": "code",
   "execution_count": 8,
   "metadata": {},
   "outputs": [
    {
     "data": {
      "text/plain": [
       "\u001b[36mx\u001b[39m: \u001b[32mVar\u001b[39m = \u001b[33mVar\u001b[39m(\u001b[32m\"x\"\u001b[39m)\n",
       "\u001b[36my\u001b[39m: \u001b[32mVar\u001b[39m = \u001b[33mVar\u001b[39m(\u001b[32m\"y\"\u001b[39m)\n",
       "\u001b[36mextensionality\u001b[39m: \u001b[32mForAll\u001b[39m = \u001b[33mForAll\u001b[39m(\n",
       "  \u001b[33mVar\u001b[39m(\u001b[32m\"x\"\u001b[39m),\n",
       "  \u001b[33mForAll\u001b[39m(\n",
       "    \u001b[33mVar\u001b[39m(\u001b[32m\"y\"\u001b[39m),\n",
       "    \u001b[33mImplies\u001b[39m(\n",
       "      \u001b[33mForAll\u001b[39m(\n",
       "        \u001b[33mVar\u001b[39m(\u001b[32m\"a\"\u001b[39m),\n",
       "        \u001b[33mEquivalent\u001b[39m(\n",
       "          \u001b[33mAtomic\u001b[39m(\u001b[33mRelation\u001b[39m(\u001b[32m\"in\"\u001b[39m, \u001b[32m2\u001b[39m), \u001b[33mVector\u001b[39m(\u001b[33mVar\u001b[39m(\u001b[32m\"a\"\u001b[39m), \u001b[33mVar\u001b[39m(\u001b[32m\"x\"\u001b[39m))),\n",
       "          \u001b[33mAtomic\u001b[39m(\u001b[33mRelation\u001b[39m(\u001b[32m\"in\"\u001b[39m, \u001b[32m2\u001b[39m), \u001b[33mVector\u001b[39m(\u001b[33mVar\u001b[39m(\u001b[32m\"a\"\u001b[39m), \u001b[33mVar\u001b[39m(\u001b[32m\"y\"\u001b[39m)))\n",
       "        )\n",
       "      ),\n",
       "      \u001b[33mEquality\u001b[39m(\u001b[33mVar\u001b[39m(\u001b[32m\"x\"\u001b[39m), \u001b[33mVar\u001b[39m(\u001b[32m\"y\"\u001b[39m))\n",
       "    )\n",
       "  )\n",
       ")"
      ]
     },
     "execution_count": 8,
     "metadata": {},
     "output_type": "execute_result"
    }
   ],
   "source": [
    "val x = Var(\"x\")\n",
    "val y = Var(\"y\")\n",
    "val extensionality = \n",
    "   ForAll(x, \n",
    "         ForAll(y,\n",
    "               Implies(sameMembers(x, y), Equality(x, y))))\n",
    " "
   ]
  },
  {
   "cell_type": "markdown",
   "metadata": {},
   "source": [
    "## Variables and free variables\n",
    "\n",
    "* The _value_ of a term can depend on some variables.\n",
    "* The _truth value_ of a formula can depend on some variables.\n",
    "* These are called _free variables_.\n",
    "\n",
    "### Examples\n",
    "\n",
    "In the language of natural numbers\n",
    "\n",
    "* $1 = 2$; no free variables\n",
    "* $n = 1$; free variable n\n",
    "* $1 \\leq 2$; no free variables\n",
    "* $\\forall n\\ n = 1$; no free variables\n",
    "* $\\exists n\\ n +5 < m$; free variable m\n",
    "* $\\exists m\\ 1 = 2$; no free variables\n",
    "\n"
   ]
  },
  {
   "cell_type": "code",
   "execution_count": 9,
   "metadata": {},
   "outputs": [
    {
     "data": {
      "text/plain": [
       "defined \u001b[32mfunction\u001b[39m \u001b[36mvariables\u001b[39m"
      ]
     },
     "execution_count": 9,
     "metadata": {},
     "output_type": "execute_result"
    }
   ],
   "source": [
    "// Variable in a term\n",
    "def variables(t: Term): Set[Var] = t match {\n",
    "        case Const(name) => Set()\n",
    "        case Recursive(function, arguments) =>\n",
    "            for{\n",
    "                arg : Term <- arguments.toSet\n",
    "                x <- variables(arg)\n",
    "            } yield x\n",
    "        case Var(name) => Set(Var(name))\n",
    "    }"
   ]
  },
  {
   "cell_type": "code",
   "execution_count": 10,
   "metadata": {},
   "outputs": [
    {
     "data": {
      "text/plain": [
       "\u001b[36mres9\u001b[39m: \u001b[32mSet\u001b[39m[\u001b[32mVar\u001b[39m] = \u001b[33mSet\u001b[39m(\u001b[33mVar\u001b[39m(\u001b[32m\"n\"\u001b[39m), \u001b[33mVar\u001b[39m(\u001b[32m\"m\"\u001b[39m))"
      ]
     },
     "execution_count": 10,
     "metadata": {},
     "output_type": "execute_result"
    }
   ],
   "source": [
    "variables(Recursive(sum, Vector(n, m)))"
   ]
  },
  {
   "cell_type": "code",
   "execution_count": 11,
   "metadata": {},
   "outputs": [
    {
     "data": {
      "text/plain": [
       "\u001b[36mp\u001b[39m: \u001b[32mRecursive\u001b[39m = \u001b[33mRecursive\u001b[39m(\u001b[33mFunction\u001b[39m(\u001b[32m\"succ\"\u001b[39m, \u001b[32m1\u001b[39m), \u001b[33mVector\u001b[39m(\u001b[33mVar\u001b[39m(\u001b[32m\"m\"\u001b[39m)))\n",
       "\u001b[36mres10_1\u001b[39m: \u001b[32mSet\u001b[39m[\u001b[32mVar\u001b[39m] = \u001b[33mSet\u001b[39m(\u001b[33mVar\u001b[39m(\u001b[32m\"n\"\u001b[39m), \u001b[33mVar\u001b[39m(\u001b[32m\"m\"\u001b[39m))"
      ]
     },
     "execution_count": 11,
     "metadata": {},
     "output_type": "execute_result"
    }
   ],
   "source": [
    "val p = Recursive(succ, Vector(m))\n",
    "variables(Recursive(sum, Vector(n, p)))"
   ]
  },
  {
   "cell_type": "code",
   "execution_count": 12,
   "metadata": {},
   "outputs": [
    {
     "data": {
      "text/plain": [
       "\u001b[36mres11\u001b[39m: \u001b[32mSet\u001b[39m[\u001b[32mVar\u001b[39m] = \u001b[33mSet\u001b[39m(\u001b[33mVar\u001b[39m(\u001b[32m\"m\"\u001b[39m))"
      ]
     },
     "execution_count": 12,
     "metadata": {},
     "output_type": "execute_result"
    }
   ],
   "source": [
    "variables(p)"
   ]
  },
  {
   "cell_type": "code",
   "execution_count": 13,
   "metadata": {},
   "outputs": [
    {
     "data": {
      "text/plain": [
       "defined \u001b[32mfunction\u001b[39m \u001b[36mfreeVariables\u001b[39m"
      ]
     },
     "execution_count": 13,
     "metadata": {},
     "output_type": "execute_result"
    }
   ],
   "source": [
    "def freeVariables(fmla: Formula) : Set[Var] = fmla match {\n",
    "    case Equality(lhs, rhs) => \n",
    "        variables(lhs) union variables(rhs)\n",
    "    case And(p, q) => \n",
    "        freeVariables(p) union freeVariables(q)\n",
    "    case Implies(p, q) => \n",
    "        freeVariables(p) union freeVariables(q)\n",
    "    case Equivalent(p, q) => \n",
    "        freeVariables(p) union freeVariables(q)\n",
    "    case Not(p) => \n",
    "        freeVariables(p)\n",
    "    case ForAll(x, p) => \n",
    "        freeVariables(p) - x\n",
    "    case Atomic(relation, arguments) =>\n",
    "        for {\n",
    "            arg: Term <- arguments.toSet\n",
    "            x <- variables(arg)\n",
    "        } yield x\n",
    "    case Exists(x, p) => \n",
    "        freeVariables(p) - x \n",
    "    case Or(p, q) => \n",
    "        freeVariables(p) union freeVariables(q)\n",
    "    }"
   ]
  },
  {
   "cell_type": "code",
   "execution_count": 14,
   "metadata": {},
   "outputs": [
    {
     "data": {
      "text/plain": [
       "\u001b[36mfmla1\u001b[39m: \u001b[32mExists\u001b[39m = \u001b[33mExists\u001b[39m(\n",
       "  \u001b[33mVar\u001b[39m(\u001b[32m\"x\"\u001b[39m),\n",
       "  \u001b[33mAtomic\u001b[39m(\u001b[33mRelation\u001b[39m(\u001b[32m\"in\"\u001b[39m, \u001b[32m2\u001b[39m), \u001b[33mVector\u001b[39m(\u001b[33mVar\u001b[39m(\u001b[32m\"x\"\u001b[39m), \u001b[33mVar\u001b[39m(\u001b[32m\"y\"\u001b[39m)))\n",
       ")\n",
       "\u001b[36mfmla2\u001b[39m: \u001b[32mForAll\u001b[39m = \u001b[33mForAll\u001b[39m(\n",
       "  \u001b[33mVar\u001b[39m(\u001b[32m\"y\"\u001b[39m),\n",
       "  \u001b[33mExists\u001b[39m(\u001b[33mVar\u001b[39m(\u001b[32m\"x\"\u001b[39m), \u001b[33mAtomic\u001b[39m(\u001b[33mRelation\u001b[39m(\u001b[32m\"in\"\u001b[39m, \u001b[32m2\u001b[39m), \u001b[33mVector\u001b[39m(\u001b[33mVar\u001b[39m(\u001b[32m\"x\"\u001b[39m), \u001b[33mVar\u001b[39m(\u001b[32m\"y\"\u001b[39m))))\n",
       ")\n",
       "\u001b[36mfmla3\u001b[39m: \u001b[32mAtomic\u001b[39m = \u001b[33mAtomic\u001b[39m(\u001b[33mRelation\u001b[39m(\u001b[32m\"in\"\u001b[39m, \u001b[32m2\u001b[39m), \u001b[33mVector\u001b[39m(\u001b[33mVar\u001b[39m(\u001b[32m\"x\"\u001b[39m), \u001b[33mVar\u001b[39m(\u001b[32m\"y\"\u001b[39m)))"
      ]
     },
     "execution_count": 14,
     "metadata": {},
     "output_type": "execute_result"
    }
   ],
   "source": [
    "val fmla1 = Exists(x, belongs(x, y))\n",
    "val fmla2 = ForAll(y, fmla1)\n",
    "val fmla3 = belongs(x, y)"
   ]
  },
  {
   "cell_type": "code",
   "execution_count": 15,
   "metadata": {},
   "outputs": [
    {
     "data": {
      "text/plain": [
       "\u001b[36mres14_0\u001b[39m: \u001b[32mSet\u001b[39m[\u001b[32mVar\u001b[39m] = \u001b[33mSet\u001b[39m(\u001b[33mVar\u001b[39m(\u001b[32m\"y\"\u001b[39m))\n",
       "\u001b[36mres14_1\u001b[39m: \u001b[32mSet\u001b[39m[\u001b[32mVar\u001b[39m] = \u001b[33mSet\u001b[39m()\n",
       "\u001b[36mres14_2\u001b[39m: \u001b[32mSet\u001b[39m[\u001b[32mVar\u001b[39m] = \u001b[33mSet\u001b[39m(\u001b[33mVar\u001b[39m(\u001b[32m\"x\"\u001b[39m), \u001b[33mVar\u001b[39m(\u001b[32m\"y\"\u001b[39m))"
      ]
     },
     "execution_count": 15,
     "metadata": {},
     "output_type": "execute_result"
    }
   ],
   "source": [
    "freeVariables(fmla1)\n",
    "freeVariables(fmla2)\n",
    "freeVariables(fmla3)"
   ]
  },
  {
   "cell_type": "markdown",
   "metadata": {},
   "source": [
    "## Set Theory\n",
    "\n",
    "We have so far:\n",
    "\n",
    "* the empty set $\\phi$.\n",
    "* the relation $\\in$ for sets.\n",
    "* an axiom saying when two sets are equal.\n",
    "\n",
    "We also know that we cannot specify sets by arbitrary properties, i.e., like\n",
    "$$\\{p : \\text{$p$ is a prime}\\}$$.\n",
    "\n",
    "We shall, however, see that we can define sets such as \n",
    "$$\\{p \\in\\mathbb{N} : \\text{$p$ is a prime}\\}$$\n",
    "provided we have previously defined (constructed) $\\mathbb{N}$."
   ]
  },
  {
   "cell_type": "markdown",
   "metadata": {},
   "source": [
    "### Properties\n",
    "\n",
    "Let $x$ be a variable. A _property of $x$_ is a _formula_ $p = p(x)$ so that $p$ has no free variables other than $x$ ($x$ may also not be a free variable). "
   ]
  },
  {
   "cell_type": "markdown",
   "metadata": {},
   "source": [
    "We cannot define sets with _unrestricted comprehension_, i.e., of the form\n",
    "$$S = \\{x : p(x) \\}$$\n",
    "as we get a paradox with the set\n",
    "$$ S = \\{x : x \\notin x\\}$$"
   ]
  },
  {
   "cell_type": "code",
   "execution_count": 16,
   "metadata": {},
   "outputs": [
    {
     "data": {
      "text/plain": [
       "\u001b[36mrussell\u001b[39m: \u001b[32mNot\u001b[39m = \u001b[33mNot\u001b[39m(\u001b[33mAtomic\u001b[39m(\u001b[33mRelation\u001b[39m(\u001b[32m\"in\"\u001b[39m, \u001b[32m2\u001b[39m), \u001b[33mVector\u001b[39m(\u001b[33mVar\u001b[39m(\u001b[32m\"x\"\u001b[39m), \u001b[33mVar\u001b[39m(\u001b[32m\"x\"\u001b[39m))))\n",
       "\u001b[36mres15_1\u001b[39m: \u001b[32mSet\u001b[39m[\u001b[32mVar\u001b[39m] = \u001b[33mSet\u001b[39m(\u001b[33mVar\u001b[39m(\u001b[32m\"x\"\u001b[39m))"
      ]
     },
     "execution_count": 16,
     "metadata": {},
     "output_type": "execute_result"
    }
   ],
   "source": [
    "val russell = Not(belongs(x, x))\n",
    "freeVariables(russell)"
   ]
  },
  {
   "cell_type": "markdown",
   "metadata": {},
   "source": [
    "### Axiom schema of specification\n",
    "\n",
    "Given a set $U$ and a property $p= p(x)$ of the variable $x$, there exists a set $S$ given by\n",
    "$$S = \\{x \\in U: p(x)\\}$$"
   ]
  },
  {
   "cell_type": "markdown",
   "metadata": {},
   "source": [
    "More formally, fix a formula $p$ with no free variables other than $x$. We have the axiom:\n",
    "$$\\forall U\\exists S(x\\in S \\iff (x \\in U \\land p(x))$$"
   ]
  },
  {
   "cell_type": "code",
   "execution_count": 17,
   "metadata": {},
   "outputs": [
    {
     "name": "stdout",
     "output_type": "stream",
     "text": [
      "\u001b[33mSet\u001b[39m(\u001b[32m6\u001b[39m, \u001b[32m9\u001b[39m, \u001b[32m12\u001b[39m, \u001b[32m3\u001b[39m, \u001b[32m18\u001b[39m, \u001b[32m15\u001b[39m)\n"
     ]
    },
    {
     "data": {
      "text/plain": [
       "\u001b[36mU\u001b[39m: \u001b[32mSet\u001b[39m[\u001b[32mInt\u001b[39m] = \u001b[33mSet\u001b[39m(\n",
       "  \u001b[32m5\u001b[39m,\n",
       "  \u001b[32m10\u001b[39m,\n",
       "  \u001b[32m14\u001b[39m,\n",
       "  \u001b[32m20\u001b[39m,\n",
       "  \u001b[32m1\u001b[39m,\n",
       "  \u001b[32m6\u001b[39m,\n",
       "  \u001b[32m9\u001b[39m,\n",
       "  \u001b[32m13\u001b[39m,\n",
       "  \u001b[32m2\u001b[39m,\n",
       "  \u001b[32m17\u001b[39m,\n",
       "  \u001b[32m12\u001b[39m,\n",
       "  \u001b[32m7\u001b[39m,\n",
       "  \u001b[32m3\u001b[39m,\n",
       "  \u001b[32m18\u001b[39m,\n",
       "  \u001b[32m16\u001b[39m,\n",
       "  \u001b[32m11\u001b[39m,\n",
       "  \u001b[32m8\u001b[39m,\n",
       "  \u001b[32m19\u001b[39m,\n",
       "  \u001b[32m4\u001b[39m,\n",
       "  \u001b[32m15\u001b[39m\n",
       ")\n",
       "\u001b[36mS\u001b[39m: \u001b[32mSet\u001b[39m[\u001b[32mInt\u001b[39m] = \u001b[33mSet\u001b[39m(\u001b[32m6\u001b[39m, \u001b[32m9\u001b[39m, \u001b[32m12\u001b[39m, \u001b[32m3\u001b[39m, \u001b[32m18\u001b[39m, \u001b[32m15\u001b[39m)"
      ]
     },
     "execution_count": 17,
     "metadata": {},
     "output_type": "execute_result"
    }
   ],
   "source": [
    "// we can implement specification for nice properties\n",
    "val U = (1 to 20).toSet\n",
    "val S = U.filter(x => x % 3 == 0) // p(x) = x % 3 == 0 \n",
    "show(S)"
   ]
  },
  {
   "cell_type": "markdown",
   "metadata": {},
   "source": [
    "## Union of a pair of sets\n",
    "\n",
    "$A \\cup B$ is the set whose elements are elements of $A$ and elements of $B$"
   ]
  },
  {
   "cell_type": "code",
   "execution_count": 18,
   "metadata": {},
   "outputs": [
    {
     "data": {
      "text/plain": [
       "\u001b[36mres17\u001b[39m: \u001b[32mSet\u001b[39m[\u001b[32mInt\u001b[39m] = \u001b[33mSet\u001b[39m(\u001b[32m1\u001b[39m, \u001b[32m9\u001b[39m, \u001b[32m7\u001b[39m, \u001b[32m3\u001b[39m, \u001b[32m4\u001b[39m)"
      ]
     },
     "execution_count": 18,
     "metadata": {},
     "output_type": "execute_result"
    }
   ],
   "source": [
    "Set(1, 3, 4) union Set(3, 7, 9)"
   ]
  },
  {
   "cell_type": "markdown",
   "metadata": {},
   "source": [
    "The existence of union is given by the _axiom of unordered pairs_\n",
    "\n",
    "$$\\forall A \\forall B\\exists C(\\forall x\\ (x\\in C \\iff (x\\in A \\lor x\\in B )))$$"
   ]
  },
  {
   "cell_type": "markdown",
   "metadata": {},
   "source": [
    "### Arbitrary union\n",
    "\n",
    "Given a _set of sets_ $U$, we can take the union of all of these, i.e. there exists\n",
    "$$\\bigcup_{A \\in U}A$$\n",
    "such that $x \\in \\bigcup_{A \\in U}A$ if and only if \n",
    "$$\\exists A\\ (A \\in U \\land x \\in A)$$."
   ]
  },
  {
   "cell_type": "code",
   "execution_count": 19,
   "metadata": {},
   "outputs": [
    {
     "data": {
      "text/plain": [
       "\u001b[36msetOfSets\u001b[39m: \u001b[32mSet\u001b[39m[\u001b[32mSet\u001b[39m[\u001b[32mInt\u001b[39m]] = \u001b[33mSet\u001b[39m(\u001b[33mSet\u001b[39m(\u001b[32m1\u001b[39m, \u001b[32m2\u001b[39m), \u001b[33mSet\u001b[39m(\u001b[32m1\u001b[39m, \u001b[32m3\u001b[39m), \u001b[33mSet\u001b[39m(\u001b[32m7\u001b[39m, \u001b[32m8\u001b[39m, \u001b[32m23\u001b[39m), \u001b[33mSet\u001b[39m(\u001b[32m7\u001b[39m))\n",
       "\u001b[36mbigUnion\u001b[39m: \u001b[32mSet\u001b[39m[\u001b[32mInt\u001b[39m] = \u001b[33mSet\u001b[39m(\u001b[32m1\u001b[39m, \u001b[32m2\u001b[39m, \u001b[32m7\u001b[39m, \u001b[32m3\u001b[39m, \u001b[32m23\u001b[39m, \u001b[32m8\u001b[39m)"
      ]
     },
     "execution_count": 19,
     "metadata": {},
     "output_type": "execute_result"
    }
   ],
   "source": [
    "// union of sets\n",
    "val setOfSets = Set(Set(1, 2), Set(1, 3), Set(7, 8, 23), Set(7))\n",
    "val bigUnion = setOfSets.flatten"
   ]
  },
  {
   "cell_type": "markdown",
   "metadata": {},
   "source": [
    "There is an axiom that says $\\bigcup_{A \\in U}A$ exists (_axiom of unions_)"
   ]
  },
  {
   "cell_type": "code",
   "execution_count": 20,
   "metadata": {},
   "outputs": [
    {
     "data": {
      "text/plain": [
       "\u001b[36mbig\u001b[39m: \u001b[32mSet\u001b[39m[\u001b[32mAny\u001b[39m] = \u001b[33mSet\u001b[39m(\u001b[33mSet\u001b[39m(\u001b[32m1\u001b[39m, \u001b[32m2\u001b[39m), \u001b[33mSet\u001b[39m(\u001b[32m1\u001b[39m, \u001b[32m3\u001b[39m), \u001b[33mSet\u001b[39m(\u001b[32m7\u001b[39m, \u001b[32m8\u001b[39m, \u001b[32m23\u001b[39m), \u001b[33mSet\u001b[39m(\u001b[32m7\u001b[39m))\n",
       "\u001b[36mres19_1\u001b[39m: \u001b[32mBoolean\u001b[39m = true\n",
       "\u001b[36mres19_2\u001b[39m: \u001b[32mBoolean\u001b[39m = false\n",
       "\u001b[36mres19_3\u001b[39m: \u001b[32mBoolean\u001b[39m = false"
      ]
     },
     "execution_count": 20,
     "metadata": {},
     "output_type": "execute_result"
    }
   ],
   "source": [
    "val big = Set[Any](Set(1, 2), Set(1, 3), Set(7, 8, 23), Set(7))\n",
    "big contains (Set(1, 2))\n",
    "(Set[Any](1, 2)).subsetOf(big)\n",
    "big contains 1"
   ]
  },
  {
   "cell_type": "code",
   "execution_count": 21,
   "metadata": {},
   "outputs": [
    {
     "data": {
      "text/plain": [
       "\u001b[36mres20\u001b[39m: \u001b[32mBoolean\u001b[39m = true"
      ]
     },
     "execution_count": 21,
     "metadata": {},
     "output_type": "execute_result"
    }
   ],
   "source": [
    "Set[Any](Set(1, 2)).subsetOf(big)"
   ]
  },
  {
   "cell_type": "code",
   "execution_count": 22,
   "metadata": {},
   "outputs": [
    {
     "data": {
      "text/plain": [
       "\u001b[36manotherBig\u001b[39m: \u001b[32mSet\u001b[39m[\u001b[32mAny\u001b[39m] = \u001b[33mSet\u001b[39m(\u001b[32m1\u001b[39m, \u001b[33mSet\u001b[39m(\u001b[32m1\u001b[39m), \u001b[33mSet\u001b[39m(\u001b[32m1\u001b[39m, \u001b[32m2\u001b[39m), \u001b[33mSet\u001b[39m(\u001b[32m2\u001b[39m, \u001b[33mSet\u001b[39m(\u001b[32m1\u001b[39m, \u001b[32m3\u001b[39m)))"
      ]
     },
     "execution_count": 22,
     "metadata": {},
     "output_type": "execute_result"
    }
   ],
   "source": [
    "val anotherBig = Set[Any](1, Set(1), Set(1, 2), Set[Any](2, Set(1, 3)))"
   ]
  },
  {
   "cell_type": "code",
   "execution_count": 23,
   "metadata": {},
   "outputs": [
    {
     "data": {
      "text/plain": [
       "\u001b[36mres22\u001b[39m: \u001b[32mBoolean\u001b[39m = true"
      ]
     },
     "execution_count": 23,
     "metadata": {},
     "output_type": "execute_result"
    }
   ],
   "source": [
    "anotherBig contains 1"
   ]
  },
  {
   "cell_type": "code",
   "execution_count": 24,
   "metadata": {},
   "outputs": [
    {
     "data": {
      "text/plain": [
       "\u001b[36mres23_0\u001b[39m: \u001b[32mBoolean\u001b[39m = true\n",
       "\u001b[36mres23_1\u001b[39m: \u001b[32mBoolean\u001b[39m = true"
      ]
     },
     "execution_count": 24,
     "metadata": {},
     "output_type": "execute_result"
    }
   ],
   "source": [
    "Set[Any](1) subsetOf anotherBig\n",
    "anotherBig contains Set(1)"
   ]
  },
  {
   "cell_type": "code",
   "execution_count": 25,
   "metadata": {},
   "outputs": [
    {
     "data": {
      "text/plain": [
       "\u001b[32mimport \u001b[39m\u001b[36mscala.collection.mutable.{Set => mSet}\n",
       "\u001b[39m\n",
       "\u001b[36mss\u001b[39m: \u001b[32mcollection\u001b[39m.\u001b[32mmutable\u001b[39m.\u001b[32mSet\u001b[39m[\u001b[32mAny\u001b[39m] = \u001b[33mSet\u001b[39m(\u001b[33mSet\u001b[39m(\u001b[32m1\u001b[39m), \u001b[33mSet\u001b[39m(\u001b[32m2\u001b[39m))"
      ]
     },
     "execution_count": 25,
     "metadata": {},
     "output_type": "execute_result"
    }
   ],
   "source": [
    "import scala.collection.mutable.{Set => mSet}\n",
    "val ss = mSet[Any](mSet(1), mSet(2))"
   ]
  },
  {
   "cell_type": "code",
   "execution_count": 26,
   "metadata": {},
   "outputs": [
    {
     "data": {
      "text/plain": [
       "\u001b[36mres25\u001b[39m: \u001b[32mcollection\u001b[39m.\u001b[32mmutable\u001b[39m.\u001b[32mSet\u001b[39m[\u001b[32mAny\u001b[39m] = \u001b[33mSet\u001b[39m(\u001b[33mSet\u001b[39m(\u001b[32m1\u001b[39m), \u001b[33mSet\u001b[39m(\u001b[32m2\u001b[39m), \u001b[33mSet\u001b[39m(\u001b[32m3\u001b[39m, \u001b[32m4\u001b[39m))"
      ]
     },
     "execution_count": 26,
     "metadata": {},
     "output_type": "execute_result"
    }
   ],
   "source": [
    "ss += mSet(3, 4)"
   ]
  },
  {
   "cell_type": "code",
   "execution_count": 27,
   "metadata": {},
   "outputs": [
    {
     "data": {
      "text/plain": [
       "\u001b[36mres26\u001b[39m: \u001b[32mcollection\u001b[39m.\u001b[32mmutable\u001b[39m.\u001b[32mSet\u001b[39m[\u001b[32mAny\u001b[39m] = \u001b[33mSet\u001b[39m(\u001b[33mSet\u001b[39m(\u001b[32m1\u001b[39m), \u001b[33mSet\u001b[39m(\u001b[32m2\u001b[39m), \u001b[32m1\u001b[39m, \u001b[33mSet\u001b[39m(\u001b[32m3\u001b[39m, \u001b[32m4\u001b[39m))"
      ]
     },
     "execution_count": 27,
     "metadata": {},
     "output_type": "execute_result"
    }
   ],
   "source": [
    "ss += 1"
   ]
  },
  {
   "cell_type": "markdown",
   "metadata": {},
   "source": [
    "## Intersections\n",
    "\n",
    "These do not need a new axiom:\n",
    "\n",
    "$$A \\cap B = \\{x \\in A : x \\in B\\}$$\n",
    "\n",
    "i.e., we are using the property $p = p(x) = x \\in B$ with free variable $x$.\n",
    "\n",
    "__Remark:__ By _axiom of extenstion_ $A \\cap B = B \\cap A$."
   ]
  },
  {
   "cell_type": "code",
   "execution_count": 28,
   "metadata": {},
   "outputs": [
    {
     "data": {
      "text/plain": [
       "\u001b[36mA\u001b[39m: \u001b[32mSet\u001b[39m[\u001b[32mInt\u001b[39m] = \u001b[33mSet\u001b[39m(\u001b[32m1\u001b[39m, \u001b[32m2\u001b[39m, \u001b[32m3\u001b[39m)\n",
       "\u001b[36mB\u001b[39m: \u001b[32mSet\u001b[39m[\u001b[32mInt\u001b[39m] = \u001b[33mSet\u001b[39m(\u001b[32m2\u001b[39m, \u001b[32m3\u001b[39m, \u001b[32m7\u001b[39m, \u001b[32m9\u001b[39m)\n",
       "\u001b[36mres27_2\u001b[39m: \u001b[32mSet\u001b[39m[\u001b[32mInt\u001b[39m] = \u001b[33mSet\u001b[39m(\u001b[32m2\u001b[39m, \u001b[32m3\u001b[39m)"
      ]
     },
     "execution_count": 28,
     "metadata": {},
     "output_type": "execute_result"
    }
   ],
   "source": [
    "val A = Set(1, 2, 3) \n",
    "val B = Set(2,3, 7, 9)\n",
    "A intersect B"
   ]
  },
  {
   "cell_type": "code",
   "execution_count": 29,
   "metadata": {},
   "outputs": [
    {
     "data": {
      "text/plain": [
       "\u001b[36mres28\u001b[39m: \u001b[32mSet\u001b[39m[\u001b[32mInt\u001b[39m] = \u001b[33mSet\u001b[39m(\u001b[32m2\u001b[39m, \u001b[32m3\u001b[39m)"
      ]
     },
     "execution_count": 29,
     "metadata": {},
     "output_type": "execute_result"
    }
   ],
   "source": [
    "A.filter(x => B contains x)"
   ]
  },
  {
   "cell_type": "markdown",
   "metadata": {},
   "source": [
    "### Power Set\n",
    "\n",
    "The _power set_ of a set $S$ is the set of subsets of $S$,\n",
    "i.e. \n",
    "$$2^S = \\{x : x \\subset S\\}$$\n",
    "\n",
    "This exists because of the _axiom of power sets_ (which just says it exists)."
   ]
  },
  {
   "cell_type": "code",
   "execution_count": 30,
   "metadata": {},
   "outputs": [
    {
     "data": {
      "text/plain": [
       "\u001b[36mres29\u001b[39m: \u001b[32mSet\u001b[39m[\u001b[32mSet\u001b[39m[\u001b[32mInt\u001b[39m]] = \u001b[33mSet\u001b[39m(\n",
       "  \u001b[33mSet\u001b[39m(),\n",
       "  \u001b[33mSet\u001b[39m(\u001b[32m2\u001b[39m),\n",
       "  \u001b[33mSet\u001b[39m(\u001b[32m1\u001b[39m, \u001b[32m2\u001b[39m),\n",
       "  \u001b[33mSet\u001b[39m(\u001b[32m2\u001b[39m, \u001b[32m7\u001b[39m),\n",
       "  \u001b[33mSet\u001b[39m(\u001b[32m1\u001b[39m, \u001b[32m2\u001b[39m, \u001b[32m7\u001b[39m),\n",
       "  \u001b[33mSet\u001b[39m(\u001b[32m7\u001b[39m),\n",
       "  \u001b[33mSet\u001b[39m(\u001b[32m1\u001b[39m, \u001b[32m7\u001b[39m),\n",
       "  \u001b[33mSet\u001b[39m(\u001b[32m1\u001b[39m)\n",
       ")"
      ]
     },
     "execution_count": 30,
     "metadata": {},
     "output_type": "execute_result"
    }
   ],
   "source": [
    "Set(1, 2, 7).subsets.toSet"
   ]
  },
  {
   "cell_type": "code",
   "execution_count": 31,
   "metadata": {},
   "outputs": [
    {
     "data": {
      "text/plain": [
       "\u001b[36mres30\u001b[39m: \u001b[32mSet\u001b[39m[\u001b[32mSet\u001b[39m[\u001b[32mNothing\u001b[39m]] = \u001b[33mSet\u001b[39m(\u001b[33mSet\u001b[39m())"
      ]
     },
     "execution_count": 31,
     "metadata": {},
     "output_type": "execute_result"
    }
   ],
   "source": [
    "Set().subsets.toSet"
   ]
  },
  {
   "cell_type": "code",
   "execution_count": 32,
   "metadata": {},
   "outputs": [
    {
     "data": {
      "text/plain": [
       "\u001b[36mres31\u001b[39m: \u001b[32mInt\u001b[39m = \u001b[32m1\u001b[39m"
      ]
     },
     "execution_count": 32,
     "metadata": {},
     "output_type": "execute_result"
    }
   ],
   "source": [
    "Set().subsets.toSet.size"
   ]
  },
  {
   "cell_type": "markdown",
   "metadata": {},
   "source": [
    "Formally, we define $A \\subset B$ by\n",
    "$x\\in A \\implies x \\in B$.\n",
    "\n",
    "The axiom giving existence of power sets says\n",
    "$$\\forall S\\exists P (x\\in P \\iff x\\subset S)$$\n",
    "\n",
    "or in full form\n",
    "$$\\forall S\\exists P (x\\in P \\iff (\\forall y\\ y\\in x\\iff y\\in S))$$"
   ]
  },
  {
   "cell_type": "markdown",
   "metadata": {},
   "source": [
    "## Numbers as Sets\n",
    "\n",
    "Everything in mathematics can be represented as sets. \n",
    "As an example, we consider natural numbers. We associate to each number\n",
    "$n$ a set of _size_ n.\n",
    "\n",
    "* $0$ is $\\phi$.\n",
    "* $1$ is $\\{\\phi\\}$.\n",
    "* $2$ is $\\{\\phi, \\{\\phi\\}\\}$.\n",
    "\n"
   ]
  },
  {
   "cell_type": "markdown",
   "metadata": {},
   "source": [
    "In general, we define the _successor_ of a set $s$ as\n",
    "$$succ(s) = s \\cup \\{s\\}$$\n",
    "and define the set associated to $n$ by\n",
    "* associate $\\varphi$ to $0$.\n",
    "* if $s$ is associated to $n$, associate $succ(s)$ to $n + 1$."
   ]
  },
  {
   "cell_type": "markdown",
   "metadata": {},
   "source": [
    "__Remark:__ $\\{s\\} = \\{y \\in 2^s: y = s \\}$ "
   ]
  },
  {
   "cell_type": "code",
   "execution_count": 33,
   "metadata": {},
   "outputs": [
    {
     "data": {
      "text/plain": [
       "defined \u001b[32mfunction\u001b[39m \u001b[36msucc\u001b[39m\n",
       "\u001b[36mres32_1\u001b[39m: \u001b[32mSet\u001b[39m[\u001b[32mAny\u001b[39m] = \u001b[33mSet\u001b[39m(\u001b[32m1\u001b[39m, \u001b[32m2\u001b[39m, \u001b[33mSet\u001b[39m(\u001b[32m1\u001b[39m, \u001b[32m2\u001b[39m))"
      ]
     },
     "execution_count": 33,
     "metadata": {},
     "output_type": "execute_result"
    }
   ],
   "source": [
    "def succ(s: Set[Any]) : Set[Any] = s union Set(s)\n",
    "succ(Set(1, 2))"
   ]
  },
  {
   "cell_type": "code",
   "execution_count": 34,
   "metadata": {},
   "outputs": [
    {
     "data": {
      "text/plain": [
       "defined \u001b[32mfunction\u001b[39m \u001b[36mnumberSet\u001b[39m\n",
       "\u001b[36mres33_1\u001b[39m: \u001b[32mSet\u001b[39m[\u001b[32mAny\u001b[39m] = \u001b[33mSet\u001b[39m(\u001b[33mSet\u001b[39m(), \u001b[33mSet\u001b[39m(\u001b[33mSet\u001b[39m()), \u001b[33mSet\u001b[39m(\u001b[33mSet\u001b[39m(), \u001b[33mSet\u001b[39m(\u001b[33mSet\u001b[39m())))"
      ]
     },
     "execution_count": 34,
     "metadata": {},
     "output_type": "execute_result"
    }
   ],
   "source": [
    "def numberSet(n: Int): Set[Any] =\n",
    "     if (n == 0) Set() else succ(numberSet(n - 1))\n",
    "numberSet(3)"
   ]
  },
  {
   "cell_type": "code",
   "execution_count": 35,
   "metadata": {},
   "outputs": [
    {
     "data": {
      "text/plain": [
       "\u001b[36mres34\u001b[39m: \u001b[32mcollection\u001b[39m.\u001b[32mimmutable\u001b[39m.\u001b[32mIndexedSeq\u001b[39m[\u001b[32mInt\u001b[39m] = \u001b[33mVector\u001b[39m(\n",
       "  \u001b[32m0\u001b[39m,\n",
       "  \u001b[32m1\u001b[39m,\n",
       "  \u001b[32m2\u001b[39m,\n",
       "  \u001b[32m3\u001b[39m,\n",
       "  \u001b[32m4\u001b[39m,\n",
       "  \u001b[32m5\u001b[39m,\n",
       "  \u001b[32m6\u001b[39m,\n",
       "  \u001b[32m7\u001b[39m,\n",
       "  \u001b[32m8\u001b[39m,\n",
       "  \u001b[32m9\u001b[39m,\n",
       "  \u001b[32m10\u001b[39m\n",
       ")"
      ]
     },
     "execution_count": 35,
     "metadata": {},
     "output_type": "execute_result"
    }
   ],
   "source": [
    "(0 to 10).map (n => numberSet(n).size)"
   ]
  },
  {
   "cell_type": "markdown",
   "metadata": {},
   "source": [
    "* Talking of _size_ is circular. Instead Cantor defined when two sets have the _same size_. Formally, we say _same cardinality_.\n",
    "\n",
    "* We say two sets have the same _cardinality_ if there is a one-to-one correspondence between their elements.\n",
    "\n",
    "* By this definition, _natural numbers_ and _even natural numbers_ have the same cardinality.\n",
    "\n"
   ]
  },
  {
   "cell_type": "markdown",
   "metadata": {},
   "source": [
    "## Functions : semi-formal\n",
    "\n",
    "A function $f: X \\to Y$ is given by\n",
    "\n",
    "* A set $X$, called the domain.\n",
    "* A set $Y$, called the co-domain.\n",
    "* For each $x\\in X$, we associate $f(x)\\in Y$.\n",
    "\n",
    "__Example:__ We can take $X = Y = \\mathbb{N}$ and define $f(n) = 2n$."
   ]
  },
  {
   "cell_type": "markdown",
   "metadata": {},
   "source": [
    "### Injective (one-to-one)\n",
    "\n",
    "A function $f: X \\to Y$ is said to be _injective_ if for $a, b\\in X$, if $a\\neq b$ then $f(a)\\neq f(b)$, i.e.\n",
    "$$\\forall a,b\\in X, a\\neq b\\implies f(a)\\neq f(b)$$"
   ]
  },
  {
   "cell_type": "markdown",
   "metadata": {},
   "source": [
    "Equivalently,\n",
    "$$\\forall a, b\\in X, (a = b) \\lor (f(a) \\neq f(b))$$"
   ]
  },
  {
   "cell_type": "code",
   "execution_count": 36,
   "metadata": {},
   "outputs": [
    {
     "data": {
      "text/plain": [
       "defined \u001b[32mfunction\u001b[39m \u001b[36misInjective\u001b[39m"
      ]
     },
     "execution_count": 36,
     "metadata": {},
     "output_type": "execute_result"
    }
   ],
   "source": [
    "def isInjective[A, B](domain: Set[A], codomain: Set[B], f: A => B) =\n",
    "     domain.forall{a => \n",
    "        domain.forall{b =>\n",
    "          (a == b) || (f(a) != f(b))}}"
   ]
  },
  {
   "cell_type": "code",
   "execution_count": 37,
   "metadata": {},
   "outputs": [
    {
     "data": {
      "text/plain": [
       "\u001b[36mres36\u001b[39m: \u001b[32mBoolean\u001b[39m = true"
      ]
     },
     "execution_count": 37,
     "metadata": {},
     "output_type": "execute_result"
    }
   ],
   "source": [
    "isInjective((1 to 10).toSet, (1 to 30).toSet, (n: Int) => 2 * n)"
   ]
  },
  {
   "cell_type": "code",
   "execution_count": 38,
   "metadata": {},
   "outputs": [
    {
     "data": {
      "text/plain": [
       "\u001b[36mres37\u001b[39m: \u001b[32mBoolean\u001b[39m = false"
      ]
     },
     "execution_count": 38,
     "metadata": {},
     "output_type": "execute_result"
    }
   ],
   "source": [
    "isInjective((1 to 10).toSet, (1 to 30).toSet, (n: Int) => n/ 2)"
   ]
  },
  {
   "cell_type": "code",
   "execution_count": 39,
   "metadata": {},
   "outputs": [
    {
     "data": {
      "text/plain": [
       "\u001b[36mres38_0\u001b[39m: \u001b[32mBoolean\u001b[39m = false\n",
       "\u001b[36mres38_1\u001b[39m: \u001b[32mBoolean\u001b[39m = true"
      ]
     },
     "execution_count": 39,
     "metadata": {},
     "output_type": "execute_result"
    }
   ],
   "source": [
    "isInjective(Set(1, 2, 3), Set(1, 2, 3), Map(1 ->1, 2 -> 2, 3 -> 1))\n",
    "isInjective(Set(1, 2, 3), Set(1, 2, 3), Map(1 ->1, 2 -> 3, 3 -> 2))"
   ]
  },
  {
   "cell_type": "markdown",
   "metadata": {},
   "source": [
    "### Range and surjectivity\n",
    "\n",
    "The _range_ of $f: X \\to Y$ is defined as \n",
    "$$f(X) = \\{f(x): x \\in X\\}$$\n",
    "\n",
    "We say $f: X \\to Y$ is _surjective_ if $f(X) = Y$."
   ]
  },
  {
   "cell_type": "code",
   "execution_count": 40,
   "metadata": {},
   "outputs": [
    {
     "data": {
      "text/plain": [
       "defined \u001b[32mfunction\u001b[39m \u001b[36mrange\u001b[39m\n",
       "\u001b[36mres39_1\u001b[39m: \u001b[32mSet\u001b[39m[\u001b[32mInt\u001b[39m] = \u001b[33mSet\u001b[39m(\u001b[32m1\u001b[39m, \u001b[32m2\u001b[39m)\n",
       "\u001b[36mres39_2\u001b[39m: \u001b[32mSet\u001b[39m[\u001b[32mInt\u001b[39m] = \u001b[33mSet\u001b[39m(\u001b[32m1\u001b[39m, \u001b[32m3\u001b[39m, \u001b[32m2\u001b[39m)"
      ]
     },
     "execution_count": 40,
     "metadata": {},
     "output_type": "execute_result"
    }
   ],
   "source": [
    "def range[A, B](domain: Set[A], codomain: Set[B], f: A => B) =\n",
    "        domain.map(f)\n",
    "range(Set(1, 2, 3), Set(1, 2, 3), Map(1 ->1, 2 -> 2, 3 -> 1))\n",
    "range(Set(1, 2, 3), Set(1, 2, 3), Map(1 ->1, 2 -> 3, 3 -> 2))"
   ]
  },
  {
   "cell_type": "code",
   "execution_count": 41,
   "metadata": {},
   "outputs": [
    {
     "data": {
      "text/plain": [
       "defined \u001b[32mfunction\u001b[39m \u001b[36misSurjective\u001b[39m\n",
       "\u001b[36mres40_1\u001b[39m: \u001b[32mBoolean\u001b[39m = false\n",
       "\u001b[36mres40_2\u001b[39m: \u001b[32mBoolean\u001b[39m = true\n",
       "\u001b[36mres40_3\u001b[39m: \u001b[32mBoolean\u001b[39m = true"
      ]
     },
     "execution_count": 41,
     "metadata": {},
     "output_type": "execute_result"
    }
   ],
   "source": [
    "def isSurjective[A, B](domain: Set[A], codomain: Set[B], f: A => B) =\n",
    "    range(domain, codomain, f) == codomain\n",
    "\n",
    "isSurjective(Set(1, 2, 3), Set(1, 2, 3), Map(1 ->1, 2 -> 2, 3 -> 1))\n",
    "isSurjective(Set(1, 2, 3), Set(1, 2, 3), Map(1 ->1, 2 -> 3, 3 -> 2))\n",
    "isSurjective(Set(1, 2, 3), Set(1, 2), Map(1 ->1, 2 -> 2, 3 -> 1))\n"
   ]
  },
  {
   "cell_type": "markdown",
   "metadata": {},
   "source": [
    "### Bijections and Cardinality\n",
    "\n",
    "* A function $f: X \\to Y$ is said to be _bijective_ if it is both injective and surjective.\n",
    "* Two sets $X$ and $Y$ have the same cardinality if there exists a bijective function $f: X \\to Y$."
   ]
  },
  {
   "cell_type": "code",
   "execution_count": 42,
   "metadata": {},
   "outputs": [
    {
     "data": {
      "text/plain": [
       "defined \u001b[32mfunction\u001b[39m \u001b[36misBijective\u001b[39m"
      ]
     },
     "execution_count": 42,
     "metadata": {},
     "output_type": "execute_result"
    }
   ],
   "source": [
    "def isBijective[A, B](domain: Set[A], codomain: Set[B], f: A => B) =\n",
    "    isSurjective(domain, codomain, f) && isInjective(domain, codomain, f)"
   ]
  },
  {
   "cell_type": "code",
   "execution_count": 43,
   "metadata": {},
   "outputs": [
    {
     "data": {
      "text/plain": [
       "\u001b[36mres42\u001b[39m: \u001b[32mBoolean\u001b[39m = true"
      ]
     },
     "execution_count": 43,
     "metadata": {},
     "output_type": "execute_result"
    }
   ],
   "source": [
    "isBijective(Set(1, 2, 3), Set(2, 4, 6), Map(1 -> 2, 2-> 4, 3 -> 6))"
   ]
  },
  {
   "cell_type": "code",
   "execution_count": 44,
   "metadata": {},
   "outputs": [
    {
     "data": {
      "text/plain": [
       "\u001b[36mres43\u001b[39m: \u001b[32mBoolean\u001b[39m = false"
      ]
     },
     "execution_count": 44,
     "metadata": {},
     "output_type": "execute_result"
    }
   ],
   "source": [
    "isBijective(\n",
    "    Set(1, 2, 3), Set(1, 2, 3, 4, 5, 6), Map(1 -> 2, 2-> 4, 3 -> 6)\n",
    ")"
   ]
  },
  {
   "cell_type": "code",
   "execution_count": 45,
   "metadata": {},
   "outputs": [
    {
     "data": {
      "text/plain": [
       "\u001b[36mres44\u001b[39m: \u001b[32mBoolean\u001b[39m = false"
      ]
     },
     "execution_count": 45,
     "metadata": {},
     "output_type": "execute_result"
    }
   ],
   "source": [
    "isBijective(Set(1, 2, 3), Set(1, 2, 3), Map(1 -> 2, 2-> 1, 3 -> 1))"
   ]
  },
  {
   "cell_type": "markdown",
   "metadata": {},
   "source": [
    "### Inverses for bijections\n",
    "\n",
    "If $f: X \\to Y$ is a bijection, then it has an _inverse_ $f^{-1}: Y\\to X$ so that\n",
    "$$\\forall x\\in X, f^{-1}(f(x)) = x$$\n",
    "and\n",
    "$$\\forall y\\in Y, f(f^{-1}(y)) = y$$\n",
    "and conversely. Further, $f^{-1}: Y \\to X$ is a bijection."
   ]
  },
  {
   "cell_type": "code",
   "execution_count": 46,
   "metadata": {},
   "outputs": [
    {
     "data": {
      "text/plain": [
       "defined \u001b[32mfunction\u001b[39m \u001b[36minverseFunction\u001b[39m\n",
       "\u001b[36mres45_1\u001b[39m: \u001b[32mInt\u001b[39m => \u001b[32mInt\u001b[39m = ammonite.$sess.cmd45$Helper$$Lambda$2922/892356471@5781e1f7"
      ]
     },
     "execution_count": 46,
     "metadata": {},
     "output_type": "execute_result"
    }
   ],
   "source": [
    "def inverseFunction[A, B](domain: Set[A], codomain: Set[B], f: A => B) ={\n",
    "    require(isBijective(domain, codomain, f), \n",
    "            \"can only invert bijections\")\n",
    "    (y: B) => domain.find(x => f(x) == y).get\n",
    "}.ensuring{\n",
    "    g =>\n",
    "      domain.forall(x => g(f(x)) == x) &&\n",
    "      codomain.forall(y => f(g(y)) == y)\n",
    "}\n",
    "\n",
    "inverseFunction(Set(1, 2, 3), Set(1, 2, 3), Map(1 -> 2, 2 ->3, 3 -> 1))"
   ]
  },
  {
   "cell_type": "code",
   "execution_count": 47,
   "metadata": {},
   "outputs": [
    {
     "data": {
      "text/plain": [
       "\u001b[36mres46\u001b[39m: \u001b[32mTry\u001b[39m[\u001b[32mInt\u001b[39m => \u001b[32mInt\u001b[39m] = \u001b[33mFailure\u001b[39m(\n",
       "  java.lang.IllegalArgumentException: requirement failed: can only invert bijections\n",
       ")"
      ]
     },
     "execution_count": 47,
     "metadata": {},
     "output_type": "execute_result"
    }
   ],
   "source": [
    "Try{\n",
    "    inverseFunction(Set(1, 2, 3), \n",
    "                    Set(1, 2, 3), Map(1 -> 2, 2 ->1, 3 -> 1))\n",
    "}"
   ]
  },
  {
   "cell_type": "code",
   "execution_count": 48,
   "metadata": {},
   "outputs": [
    {
     "data": {
      "text/plain": [
       "defined \u001b[32mfunction\u001b[39m \u001b[36minverseMap\u001b[39m"
      ]
     },
     "execution_count": 48,
     "metadata": {},
     "output_type": "execute_result"
    }
   ],
   "source": [
    "def inverseMap[A, B](domain: Set[A], codomain: Set[B], f: A => B) ={\n",
    "    require(isBijective(domain, codomain, f), \n",
    "            \"can only invert bijections\")\n",
    "    (codomain.map{\n",
    "     (y: B) => y -> domain.find(x => f(x) == y).get}).toMap\n",
    "}.ensuring{\n",
    "    g =>\n",
    "      isBijective(codomain, domain, g) &&\n",
    "      domain.forall(x => g(f(x)) == x) &&\n",
    "      codomain.forall(y => f(g(y)) == y)\n",
    "}"
   ]
  },
  {
   "cell_type": "code",
   "execution_count": 49,
   "metadata": {},
   "outputs": [
    {
     "data": {
      "text/plain": [
       "\u001b[36mres48\u001b[39m: \u001b[32mMap\u001b[39m[\u001b[32mInt\u001b[39m, \u001b[32mInt\u001b[39m] = \u001b[33mMap\u001b[39m(\u001b[32m4\u001b[39m -> \u001b[32m1\u001b[39m, \u001b[32m5\u001b[39m -> \u001b[32m3\u001b[39m, \u001b[32m6\u001b[39m -> \u001b[32m2\u001b[39m)"
      ]
     },
     "execution_count": 49,
     "metadata": {},
     "output_type": "execute_result"
    }
   ],
   "source": [
    "inverseMap(Set(1, 2, 3), Set(4, 5, 6), Map(1 -> 4, 2 -> 6, 3 -> 5))"
   ]
  },
  {
   "cell_type": "markdown",
   "metadata": {},
   "source": [
    "## Cantor's theorem\n",
    "\n",
    "__Theorem:__ For any set $S$, any function $f: S \\to 2^S$ \n",
    "is _not_ a surjection. In particular $S$ and $2^S$ do not have the same\n",
    "cardinality."
   ]
  },
  {
   "cell_type": "markdown",
   "metadata": {},
   "source": [
    "In other words, if $f: S\\to 2^S$, there exists $y\\in 2^S$ \n",
    "such that $y\\notin f(S)$."
   ]
  },
  {
   "cell_type": "markdown",
   "metadata": {},
   "source": [
    "__Proof:__ We define $y\\in 2^S$, i.e., $y\\subset S$,\n",
    "which is not in the range by\n",
    "$$y = \\{x \\in S: x \\notin f(x)\\}$$"
   ]
  },
  {
   "cell_type": "markdown",
   "metadata": {},
   "source": [
    "This is not in $f(S)$ as for all $x_0\\in X$, then observe that\n",
    "$$x_0\\in y \\iff x_0 \\notin f(x_0)$$\n",
    "so $y\\neq f(x_0)$.\n"
   ]
  },
  {
   "cell_type": "code",
   "execution_count": 50,
   "metadata": {},
   "outputs": [
    {
     "data": {
      "text/plain": [
       "defined \u001b[32mfunction\u001b[39m \u001b[36mcantor\u001b[39m"
      ]
     },
     "execution_count": 50,
     "metadata": {},
     "output_type": "execute_result"
    }
   ],
   "source": [
    "def cantor[A](s: Set[A], f: A => Set[A]): Set[A] =\n",
    "     s.filter{x => !f(x).contains(x)\n",
    "}.ensuring(t => !range(s, s.subsets.toSet, f).contains(t))"
   ]
  },
  {
   "cell_type": "code",
   "execution_count": 51,
   "metadata": {},
   "outputs": [
    {
     "data": {
      "text/plain": [
       "\u001b[36mres50\u001b[39m: \u001b[32mSet\u001b[39m[\u001b[32mInt\u001b[39m] = \u001b[33mSet\u001b[39m()"
      ]
     },
     "execution_count": 51,
     "metadata": {},
     "output_type": "execute_result"
    }
   ],
   "source": [
    "cantor(Set(1, 2, 3), Map(1 -> Set(1), 2 -> Set(1, 2), 3 -> Set(1, 2, 3)))"
   ]
  },
  {
   "cell_type": "code",
   "execution_count": 52,
   "metadata": {},
   "outputs": [
    {
     "data": {
      "text/plain": [
       "\u001b[36mres51\u001b[39m: \u001b[32mSet\u001b[39m[\u001b[32mInt\u001b[39m] = \u001b[33mSet\u001b[39m(\u001b[32m3\u001b[39m)"
      ]
     },
     "execution_count": 52,
     "metadata": {},
     "output_type": "execute_result"
    }
   ],
   "source": [
    "cantor(Set(1, 2, 3), Map(1 -> Set(1), 2 -> Set(1, 2), 3 -> Set(1, 2)))"
   ]
  },
  {
   "cell_type": "markdown",
   "metadata": {},
   "source": [
    "### Hilbert's hotel\n",
    "\n",
    "This is a hotel with infinitely many rooms, with number $1$, $2$, $3$, $4$, ...\n"
   ]
  },
  {
   "cell_type": "markdown",
   "metadata": {},
   "source": [
    "* Suppose all the rooms are occupied and a guest turns up, he can still be accomodated: shift everyone."
   ]
  },
  {
   "cell_type": "markdown",
   "metadata": {},
   "source": [
    "* Suppose guests with employee codes 1, 2, 3, 4, ... turn up, all can be accomodated."
   ]
  },
  {
   "cell_type": "markdown",
   "metadata": {},
   "source": [
    "* Suppose guests with employee codes all _infinite sequences of 0's and 1's_ turn up, they __cannot__ be accomodated."
   ]
  },
  {
   "cell_type": "markdown",
   "metadata": {},
   "source": [
    "### Comparing sets\n",
    "\n",
    "We have defined what it means for sets $A$ and $B$ to have the same size. We denote this $|A| = |B|$ (for now $|A|$ has no meaning)."
   ]
  },
  {
   "cell_type": "markdown",
   "metadata": {},
   "source": [
    "__Question:__ When should we say $|A| \\leq |B|$?"
   ]
  },
  {
   "cell_type": "markdown",
   "metadata": {},
   "source": [
    "* If $B \\subset A$ we expect $|B| \\leq |A|$.\n",
    "* If $|B| = |C|$ and $|C| \\leq |A|$ then $|B| \\leq |A|$."
   ]
  },
  {
   "cell_type": "markdown",
   "metadata": {},
   "source": [
    "__Definition:__ We say $|A| \\leq |B|$ if there is an injective function from $f: A \\to B$. "
   ]
  },
  {
   "cell_type": "markdown",
   "metadata": {},
   "source": [
    "__Question:__ If $|A| \\leq |B|$ and $|B| \\leq |A|$, does it follow that $|A| = |B|$?"
   ]
  },
  {
   "cell_type": "markdown",
   "metadata": {},
   "source": [
    "__Answer:__ Yes. This is the Cantor-Bernstein-Shroeder theorem."
   ]
  },
  {
   "cell_type": "markdown",
   "metadata": {},
   "source": [
    "__Question (Trichotomy)__: Given sets $A$ and $B$, is at least one of $|A| \\leq |B|$ and $|B| \\leq |A|$ true?"
   ]
  },
  {
   "cell_type": "markdown",
   "metadata": {},
   "source": [
    "__Answer:__ Yes. Follows from the following.\n",
    "\n",
    "__Proposition:__ There are subsets $C \\subset A$ and $D \\subset B$ and a bijection from $C$ to $D$ such that either $C = A$ or $D = B$.\n",
    "\n",
    "That is, there is either a bijection from a subset of $A$ to all of $B$ or from $A$ to a subset of $B$."
   ]
  },
  {
   "cell_type": "code",
   "execution_count": 55,
   "metadata": {},
   "outputs": [
    {
     "data": {
      "text/plain": [
       "defined \u001b[32mfunction\u001b[39m \u001b[36mtrichotomy\u001b[39m"
      ]
     },
     "execution_count": 55,
     "metadata": {},
     "output_type": "execute_result"
    }
   ],
   "source": [
    "def trichotomy[X, Y](A : Set[X], B: Set[Y]) : Map[X, Y] = {\n",
    "    if (A.isEmpty || B.isEmpty) Map[X,Y]()\n",
    "    else {\n",
    "        val x = A.head\n",
    "        val y = B.head\n",
    "        trichotomy[X, Y](A - x, B - y) + (x -> y)\n",
    "    }\n",
    "}.ensuring{(f : Map[X, Y]) => (f.keySet == A || f.values.toSet == B) && \n",
    "           f.keySet.subsetOf(A) &&\n",
    "           f.values.toSet.subsetOf(B) &&\n",
    "           isBijective(f.keySet, f.values.toSet, f)\n",
    "          }"
   ]
  },
  {
   "cell_type": "code",
   "execution_count": 56,
   "metadata": {},
   "outputs": [
    {
     "data": {
      "text/plain": [
       "\u001b[36mres55\u001b[39m: \u001b[32mMap\u001b[39m[\u001b[32mInt\u001b[39m, \u001b[32mInt\u001b[39m] = \u001b[33mMap\u001b[39m(\u001b[32m4\u001b[39m -> \u001b[32m5\u001b[39m, \u001b[32m2\u001b[39m -> \u001b[32m4\u001b[39m, \u001b[32m1\u001b[39m -> \u001b[32m1\u001b[39m)"
      ]
     },
     "execution_count": 56,
     "metadata": {},
     "output_type": "execute_result"
    }
   ],
   "source": [
    "trichotomy(Set(1, 2, 4), Set(1, 4, 5, 7))"
   ]
  },
  {
   "cell_type": "code",
   "execution_count": 57,
   "metadata": {},
   "outputs": [
    {
     "data": {
      "text/plain": [
       "\u001b[36mres56\u001b[39m: \u001b[32mMap\u001b[39m[\u001b[32mBoolean\u001b[39m, \u001b[32mInt\u001b[39m] = \u001b[33mMap\u001b[39m(false -> \u001b[32m4\u001b[39m, true -> \u001b[32m3\u001b[39m)"
      ]
     },
     "execution_count": 57,
     "metadata": {},
     "output_type": "execute_result"
    }
   ],
   "source": [
    "trichotomy(Set(true, false), Set(3, 4, 5))"
   ]
  },
  {
   "cell_type": "code",
   "execution_count": 58,
   "metadata": {},
   "outputs": [
    {
     "data": {
      "text/plain": [
       "\u001b[36mres57\u001b[39m: \u001b[32mMap\u001b[39m[\u001b[32mInt\u001b[39m, \u001b[32mString\u001b[39m] = \u001b[33mMap\u001b[39m(\u001b[32m2\u001b[39m -> \u001b[32m\"Hi\"\u001b[39m, \u001b[32m1\u001b[39m -> \u001b[32m\"Hello\"\u001b[39m)"
      ]
     },
     "execution_count": 58,
     "metadata": {},
     "output_type": "execute_result"
    }
   ],
   "source": [
    "trichotomy(Set(1, 2, 4), Set(\"Hello\", \"Hi\"))"
   ]
  },
  {
   "cell_type": "markdown",
   "metadata": {},
   "source": [
    "In the finite case, this terminates by induction. In general, we have to use _transfinite induction_.\n",
    "\n",
    "__Definition:__ A set $A$ is said to be _countable_ if $|A| \\leq |\\mathbb{N}|$. Otherwise we say it is _uncountable_."
   ]
  },
  {
   "cell_type": "markdown",
   "metadata": {},
   "source": [
    "__Propn:__ If $A$ is countable either $A$ is finite or $|A| = \\mathbb{N}$"
   ]
  },
  {
   "cell_type": "code",
   "execution_count": null,
   "metadata": {},
   "outputs": [],
   "source": []
  }
 ],
 "metadata": {
  "kernelspec": {
   "display_name": "Scala",
   "language": "scala",
   "name": "scala"
  },
  "language_info": {
   "codemirror_mode": "text/x-scala",
   "file_extension": ".scala",
   "mimetype": "text/x-scala",
   "name": "scala",
   "nbconvert_exporter": "script",
   "version": "2.12.8"
  }
 },
 "nbformat": 4,
 "nbformat_minor": 2
}
