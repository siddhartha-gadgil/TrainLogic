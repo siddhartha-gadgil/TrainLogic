{
 "cells": [
  {
   "cell_type": "markdown",
   "metadata": {},
   "source": [
    "# First-order langauges and Sets\n",
    "\n",
    "## First-Order languages\n",
    "\n",
    "A first-order language is determined by a vocabulary consisting of _variables, _constants_, _functions_ and _relations_. First, we encode functions and relations."
   ]
  },
  {
   "cell_type": "code",
   "execution_count": 1,
   "metadata": {},
   "outputs": [
    {
     "data": {
      "text/plain": [
       "defined \u001b[32mclass\u001b[39m \u001b[36mFunction\u001b[39m\n",
       "defined \u001b[32mclass\u001b[39m \u001b[36mRelation\u001b[39m"
      ]
     },
     "execution_count": 1,
     "metadata": {},
     "output_type": "execute_result"
    }
   ],
   "source": [
    "case class Function(name: String, degree: Int)\n",
    "\n",
    "case class Relation(name: String, degree: Int)"
   ]
  },
  {
   "cell_type": "markdown",
   "metadata": {},
   "source": [
    "We form two kinds of _expressions_, _terms_ and _formulas_ using these. Both of these are defined recursively."
   ]
  },
  {
   "cell_type": "code",
   "execution_count": 2,
   "metadata": {},
   "outputs": [
    {
     "data": {
      "text/plain": [
       "defined \u001b[32mtrait\u001b[39m \u001b[36mExpression\u001b[39m\n",
       "defined \u001b[32mtrait\u001b[39m \u001b[36mTerm\u001b[39m\n",
       "defined \u001b[32mtrait\u001b[39m \u001b[36mFormula\u001b[39m\n",
       "defined \u001b[32mobject\u001b[39m \u001b[36mTerm\u001b[39m\n",
       "defined \u001b[32mobject\u001b[39m \u001b[36mFormula\u001b[39m"
      ]
     },
     "execution_count": 2,
     "metadata": {},
     "output_type": "execute_result"
    }
   ],
   "source": [
    "sealed trait Expression\n",
    "\n",
    "sealed trait Term extends Expression\n",
    "\n",
    "sealed trait Formula extends Expression\n",
    "\n",
    "object Term{\n",
    "    case class Var(name: String) extends Term\n",
    "    \n",
    "    case class Const(name: String) extends Term \n",
    "\n",
    "    case class Recursive(function: Function, arguments: Vector[Term]) extends Term{\n",
    "        require(function.degree == arguments.length)\n",
    "    }\n",
    "}\n",
    "\n",
    "object Formula{\n",
    "    case class Equality(lhs: Term, rhs: Term) extends Formula\n",
    "    \n",
    "    case class Atomic(relation: Relation, arguments: Vector[Term]) extends Formula{\n",
    "        require(relation.degree == arguments.length)\n",
    "    }\n",
    "\n",
    "    case class Or(P: Formula, Q: Formula) extends Formula\n",
    "\n",
    "    case class And(P: Formula, Q: Formula) extends Formula\n",
    "\n",
    "    case class Implies(P: Formula, Q: Formula) extends Formula\n",
    "\n",
    "    case class Equivalent(P: Formula, Q: Formula) extends Formula\n",
    "\n",
    "    case class Not(P: Formula) extends Formula\n",
    "\n",
    "    case class ForAll(x: Term.Var, P: Formula) extends Formula\n",
    "\n",
    "    case class Exists(x: Term.Var, P: Formula) extends Formula\n",
    "\n",
    "}"
   ]
  },
  {
   "cell_type": "markdown",
   "metadata": {},
   "source": [
    "## The language of Sets\n",
    "\n",
    "The language of sets has:\n",
    "\n",
    "* a single constant $\\phi$\n",
    "* a single relation $\\in$ of degree $2$.\n",
    "\n",
    "We introduce these as well as a convenience method."
   ]
  },
  {
   "cell_type": "code",
   "execution_count": 3,
   "metadata": {},
   "outputs": [
    {
     "data": {
      "text/plain": [
       "\u001b[32mimport \u001b[39m\u001b[36mTerm._, Formula._\n",
       "\n",
       "\u001b[39m\n",
       "\u001b[36mphi\u001b[39m: \u001b[32mConst\u001b[39m = \u001b[33mConst\u001b[39m(\u001b[32m\"empty-set\"\u001b[39m)\n",
       "\u001b[36min\u001b[39m: \u001b[32mRelation\u001b[39m = \u001b[33mRelation\u001b[39m(\u001b[32m\"in\"\u001b[39m, \u001b[32m2\u001b[39m)\n",
       "defined \u001b[32mfunction\u001b[39m \u001b[36mbelongs\u001b[39m"
      ]
     },
     "execution_count": 3,
     "metadata": {},
     "output_type": "execute_result"
    }
   ],
   "source": [
    "import Term._, Formula._\n",
    "\n",
    "val phi = Const(\"empty-set\")\n",
    "val in = Relation(\"in\", 2)\n",
    "\n",
    "def belongs(x: Term, y: Term) = Formula.Atomic(in, Vector(x, y))"
   ]
  },
  {
   "cell_type": "markdown",
   "metadata": {},
   "source": [
    "As an example, we define extensionality."
   ]
  },
  {
   "cell_type": "code",
   "execution_count": null,
   "metadata": {},
   "outputs": [],
   "source": []
  }
 ],
 "metadata": {
  "kernelspec": {
   "display_name": "Scala",
   "language": "scala",
   "name": "scala"
  },
  "language_info": {
   "codemirror_mode": "text/x-scala",
   "file_extension": ".scala",
   "mimetype": "text/x-scala",
   "name": "scala",
   "nbconvert_exporter": "script",
   "version": "2.12.8"
  }
 },
 "nbformat": 4,
 "nbformat_minor": 2
}
